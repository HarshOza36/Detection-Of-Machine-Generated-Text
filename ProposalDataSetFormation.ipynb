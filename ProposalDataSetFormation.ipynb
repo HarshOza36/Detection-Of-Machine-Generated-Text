{
 "cells": [
  {
   "cell_type": "code",
   "execution_count": 1,
   "id": "b409799c",
   "metadata": {},
   "outputs": [],
   "source": [
    "import pandas as pd\n",
    "import numpy as np\n",
    "import json\n",
    "import re\n",
    "\n",
    "\n",
    "# ignore warnings\n",
    "import warnings\n",
    "warnings.filterwarnings(\"ignore\")"
   ]
  },
  {
   "cell_type": "code",
   "execution_count": 2,
   "id": "7d123caa",
   "metadata": {},
   "outputs": [],
   "source": [
    "imdb_reviews_path = 'data/IMDB Dataset.csv/IMDB Dataset.csv'\n",
    "twitter_sentiments_path = 'data/trainingandtestdata/training.1600000.processed.noemoticon.csv'\n",
    "amazon_magazine_subscription_json_path = 'data/Magazine_Subscriptions.json'\n",
    "amazon_magazine_subscription_path = \"data/amazon_magazine_reviews.csv\""
   ]
  },
  {
   "cell_type": "code",
   "execution_count": 29,
   "id": "c4d55be2",
   "metadata": {},
   "outputs": [],
   "source": [
    "# Converting json data to csv and saving it\n",
    "# amazon_magazine_subscription_json_path = 'data/Magazine_Subscriptions.json'\n",
    "# amz_data = []\n",
    "# with open(amazon_magazine_subscription_json_path, 'r') as f:\n",
    "#     amz_data = f.readlines()\n",
    "# amz_data = [eval(data.strip().replace(\"false\", \"False\").replace(\"true\", \"True\")) for data in amz_data]\n",
    "# amz_df = pd.DataFrame.from_dict(amz_data)\n",
    "# amz_df.to_csv(\"data/amazon_magazine_reviews.csv\", index = False)"
   ]
  },
  {
   "cell_type": "code",
   "execution_count": 6,
   "id": "c27a05ce",
   "metadata": {},
   "outputs": [],
   "source": [
    "imdb_df = pd.read_csv(imdb_reviews_path)"
   ]
  },
  {
   "cell_type": "code",
   "execution_count": 34,
   "id": "ff8ae087",
   "metadata": {
    "scrolled": true
   },
   "outputs": [
    {
     "data": {
      "text/html": [
       "<div>\n",
       "<style scoped>\n",
       "    .dataframe tbody tr th:only-of-type {\n",
       "        vertical-align: middle;\n",
       "    }\n",
       "\n",
       "    .dataframe tbody tr th {\n",
       "        vertical-align: top;\n",
       "    }\n",
       "\n",
       "    .dataframe thead th {\n",
       "        text-align: right;\n",
       "    }\n",
       "</style>\n",
       "<table border=\"1\" class=\"dataframe\">\n",
       "  <thead>\n",
       "    <tr style=\"text-align: right;\">\n",
       "      <th></th>\n",
       "      <th>review</th>\n",
       "      <th>sentiment</th>\n",
       "    </tr>\n",
       "  </thead>\n",
       "  <tbody>\n",
       "    <tr>\n",
       "      <th>0</th>\n",
       "      <td>One of the other reviewers has mentioned that ...</td>\n",
       "      <td>positive</td>\n",
       "    </tr>\n",
       "    <tr>\n",
       "      <th>1</th>\n",
       "      <td>A wonderful little production. &lt;br /&gt;&lt;br /&gt;The...</td>\n",
       "      <td>positive</td>\n",
       "    </tr>\n",
       "    <tr>\n",
       "      <th>2</th>\n",
       "      <td>I thought this was a wonderful way to spend ti...</td>\n",
       "      <td>positive</td>\n",
       "    </tr>\n",
       "    <tr>\n",
       "      <th>3</th>\n",
       "      <td>Basically there's a family where a little boy ...</td>\n",
       "      <td>negative</td>\n",
       "    </tr>\n",
       "    <tr>\n",
       "      <th>4</th>\n",
       "      <td>Petter Mattei's \"Love in the Time of Money\" is...</td>\n",
       "      <td>positive</td>\n",
       "    </tr>\n",
       "  </tbody>\n",
       "</table>\n",
       "</div>"
      ],
      "text/plain": [
       "                                              review sentiment\n",
       "0  One of the other reviewers has mentioned that ...  positive\n",
       "1  A wonderful little production. <br /><br />The...  positive\n",
       "2  I thought this was a wonderful way to spend ti...  positive\n",
       "3  Basically there's a family where a little boy ...  negative\n",
       "4  Petter Mattei's \"Love in the Time of Money\" is...  positive"
      ]
     },
     "execution_count": 34,
     "metadata": {},
     "output_type": "execute_result"
    }
   ],
   "source": [
    "imdb_df.head()"
   ]
  },
  {
   "cell_type": "code",
   "execution_count": 59,
   "id": "64503799",
   "metadata": {},
   "outputs": [],
   "source": [
    "tweet_df = pd.read_csv(twitter_sentiments_path, encoding = \"ISO-8859-1\", header = None)\n",
    "tweet_df.rename(columns = {0:\"sentiments\",1:\"ids\",2:\"DateTime\",3:\"NO_QUERY\",4:\"UserId\",5:\"review\"}, inplace = True)"
   ]
  },
  {
   "cell_type": "code",
   "execution_count": 60,
   "id": "ac32e964",
   "metadata": {},
   "outputs": [
    {
     "data": {
      "text/plain": [
       "Index(['sentiments', 'ids', 'DateTime', 'NO_QUERY', 'UserId', 'review'], dtype='object')"
      ]
     },
     "execution_count": 60,
     "metadata": {},
     "output_type": "execute_result"
    }
   ],
   "source": [
    "tweet_df.columns"
   ]
  },
  {
   "cell_type": "code",
   "execution_count": 61,
   "id": "519c3bc6",
   "metadata": {},
   "outputs": [],
   "source": [
    "amz_df = pd.read_csv(amazon_magazine_subscription_path)\n",
    "amz_df.rename(columns = {\"reviewText\":\"review\"}, inplace = True)"
   ]
  },
  {
   "cell_type": "code",
   "execution_count": 62,
   "id": "c7c4293d",
   "metadata": {},
   "outputs": [
    {
     "data": {
      "text/plain": [
       "Index(['overall', 'vote', 'verified', 'reviewTime', 'reviewerID', 'asin',\n",
       "       'reviewerName', 'review', 'summary', 'unixReviewTime', 'style',\n",
       "       'image'],\n",
       "      dtype='object')"
      ]
     },
     "execution_count": 62,
     "metadata": {},
     "output_type": "execute_result"
    }
   ],
   "source": [
    "amz_df.columns"
   ]
  },
  {
   "cell_type": "code",
   "execution_count": 63,
   "id": "957b4880",
   "metadata": {
    "scrolled": false
   },
   "outputs": [
    {
     "data": {
      "text/plain": [
       "(50000, 1600000, 89689)"
      ]
     },
     "execution_count": 63,
     "metadata": {},
     "output_type": "execute_result"
    }
   ],
   "source": [
    "len(imdb_df), len(tweet_df), len(amz_df)"
   ]
  },
  {
   "cell_type": "code",
   "execution_count": 82,
   "id": "9b6135e6",
   "metadata": {},
   "outputs": [],
   "source": [
    "imdb3000 = pd.DataFrame(imdb_df['review'][:3000].copy())\n",
    "tweet3000 = pd.DataFrame(tweet_df['review'][:3000].copy())\n",
    "amz4000 = pd.DataFrame(amz_df['review'][:4000].copy())"
   ]
  },
  {
   "cell_type": "code",
   "execution_count": 215,
   "id": "441765d9",
   "metadata": {},
   "outputs": [],
   "source": [
    "main_df = pd.concat([imdb3000, tweet3000, amz4000]).rename(columns = {'review':'sentence'})"
   ]
  },
  {
   "cell_type": "code",
   "execution_count": 216,
   "id": "c246e5df",
   "metadata": {},
   "outputs": [],
   "source": [
    "main_df['class'] = [0] * 10000"
   ]
  },
  {
   "cell_type": "markdown",
   "id": "5619558f",
   "metadata": {},
   "source": [
    "def parse(sent):\n",
    "    parsedSentence = \"\"\n",
    "    for ch in sent.split(\" \"):\n",
    "        if ch == \".\":\n",
    "            break\n",
    "        parsedSentence += ch\n",
    "main_df['review'] = main_df['review'].apply(lamda sent: parse(sent))"
   ]
  },
  {
   "cell_type": "markdown",
   "id": "20ac3958",
   "metadata": {},
   "source": [
    "# Pre processing sentences\n",
    "\n",
    "### Removal of html tags and encoding characters\n",
    "    - HTML tags and encoding characters will make no use to the sentences when generating machine text for the \n",
    "    given sentences\n",
    "\n",
    "### Setting a sentence length\n",
    "    - Setting a hard barrier limit of <= 25 words for a given sentence so we can generate machine generated text on Chatgpt. \n",
    "      To form such sentences we will check two conditions \n",
    "    - First if the sentence has  <= 25 words we will take the whole sentence\n",
    "    - Otherwise we will take the sentence ending near 25 words\n",
    "    - For that we will check for two conditions.\n",
    "          1.   If the sentence is \"I am going to read. I am reading.\" Here we see that \"read.\" has a period at its end\n",
    "               We will take the processed sentence till that word.\n",
    "          2.   If the sentence is \"I am going to read .I am reading.\" Here we see read ends and there is a space \n",
    "               and then period with an I as \"read .I\" So if we have a period at the starting index of the word we will \n",
    "               take the previous word and end our processed sentence there and add a space with a period to keep the \n",
    "               actual sentence structure\n",
    "    - In scenarios where we have period in between two words like \"Mr.ABC\" or \"I am reading.I read\" we will ignore the \n",
    "      period semantics, and check for other words if the have periods\n",
    "    - If we dont have any of these conditions we will directly grab the first 25 words\n",
    "  \n",
    "        "
   ]
  },
  {
   "cell_type": "code",
   "execution_count": 217,
   "id": "683e4f4a",
   "metadata": {},
   "outputs": [],
   "source": [
    "# Compiling re expressions for data cleaning\n",
    "htmlRE = re.compile('<.*?>')\n",
    "htmlCharsRE = re.compile('&#\\d+;')\n",
    "\n",
    "# Functions for data cleaning\n",
    "def processData(review):\n",
    "    review = str(review)\n",
    "    review = re.sub(htmlRE, '', review) # removing HTML\n",
    "    review = re.sub(htmlCharsRE, '', review) # removing HTML encoding charsets\n",
    "    words = review.split()\n",
    "\n",
    "    if len(words) > 25:\n",
    "        idxs = []\n",
    "        for idx,wrd in enumerate(words):\n",
    "            if wrd[-1] == \".\":\n",
    "                idxs.append(idx)\n",
    "            elif wrd[0] == \".\":\n",
    "                idxs.append(idx)\n",
    "\n",
    "\n",
    "        # getting the closest index\n",
    "        final_idx_sort = sorted([(abs(i-24),i) for i in idxs])\n",
    "\n",
    "        if len(final_idx_sort) == 0:\n",
    "            review = \" \".join(words[:25])\n",
    "        else:\n",
    "            final_dist, final_idx = final_idx_sort[0]\n",
    "        \n",
    "\n",
    "            if final_idx > 24 and final_dist > 6:\n",
    "                review = \" \".join(words[:25])\n",
    "            else:\n",
    "                word = words[final_idx]\n",
    "\n",
    "                if word[-1] == \".\":\n",
    "                    review = \" \".join(words[:final_idx+1])\n",
    "                else:\n",
    "                    review = \" \".join(words[:final_idx])\n",
    "                    review += \" .\"\n",
    "\n",
    "    return review\n",
    "\n",
    "# apply data cleaning on the dataframe\n",
    "main_df['sentence'] = main_df['sentence'].apply(lambda x: processData(x))\n"
   ]
  },
  {
   "cell_type": "code",
   "execution_count": 218,
   "id": "a29bd5ac",
   "metadata": {},
   "outputs": [],
   "source": [
    "main_df.to_csv(\"data/mainDataset10000.csv\")"
   ]
  },
  {
   "cell_type": "code",
   "execution_count": null,
   "id": "d1846f4c",
   "metadata": {},
   "outputs": [],
   "source": []
  },
  {
   "cell_type": "code",
   "execution_count": null,
   "id": "112580cc",
   "metadata": {},
   "outputs": [],
   "source": []
  },
  {
   "cell_type": "code",
   "execution_count": null,
   "id": "e7f88832",
   "metadata": {},
   "outputs": [],
   "source": []
  },
  {
   "cell_type": "code",
   "execution_count": 200,
   "id": "993c6282",
   "metadata": {},
   "outputs": [],
   "source": [
    "with open(\"h.txt\", \"r\") as f:\n",
    "    chatData = f.readlines()"
   ]
  },
  {
   "cell_type": "code",
   "execution_count": 202,
   "id": "65d0875b",
   "metadata": {},
   "outputs": [
    {
     "data": {
      "text/plain": [
       "['(0). According to another reviewer, watching just one episode of Oz is enough to get you hooked.\\n',\n",
       " '\\n',\n",
       " '(1). The filming style of this production is unassuming and reminiscent of older BBC programs, which adds to the realism of the piece, sometimes in a discomforting way.\\n',\n",
       " '\\n',\n",
       " '(2). Spending a too-hot summer weekend in the air-conditioned theater to watch a light-hearted comedy was a wonderful way to pass the time.\\n',\n",
       " '\\n',\n",
       " \"(3). The movie is about a family with a little boy named Jake who believes there's a zombie in his closet, and whose parents are constantly fighting. However, the film moves slower than a soap opera.\\n\",\n",
       " '\\n',\n",
       " '(4). Love in the Time of Money, directed by Petter Mattei, is visually stunning and offers a vivid portrayal of human relationships.\\n',\n",
       " '\\n',\n",
       " '(5). This movie is likely my favorite of all time. It tells a story of selflessness, sacrifice, and dedication to a noble cause without being preachy or boring.\\n',\n",
       " '\\n',\n",
       " '(6). I would enjoy seeing an updated version of the Seahunt series that incorporates modern technology.\\n',\n",
       " '\\n',\n",
       " \"(7). When it first aired in the 1970s, this show was a fresh and innovative concept. While the first seven or eight years were brilliant, the show's quality declined afterwards.\\n\",\n",
       " '\\n',\n",
       " '(8). I was looking forward to watching this film based on the positive comments about it, but it turned out to be a bad mistake.\\n',\n",
       " '\\n',\n",
       " '(9). If you appreciate genuine, gut-wrenching laughter, then you will enjoy this movie.']"
      ]
     },
     "execution_count": 202,
     "metadata": {},
     "output_type": "execute_result"
    }
   ],
   "source": [
    "chatData"
   ]
  },
  {
   "cell_type": "code",
   "execution_count": 205,
   "id": "2c7fd1fa",
   "metadata": {},
   "outputs": [
    {
     "data": {
      "text/plain": [
       "10"
      ]
     },
     "execution_count": 205,
     "metadata": {},
     "output_type": "execute_result"
    }
   ],
   "source": [
    "data = []\n",
    "for line in chatData:\n",
    "    if line != \"\\n\":\n",
    "        data.append(line.strip()[5:])\n",
    "len(data)"
   ]
  },
  {
   "cell_type": "code",
   "execution_count": 206,
   "id": "95a937cf",
   "metadata": {},
   "outputs": [],
   "source": [
    "cols = [\"\"] * 10000\n",
    "\n",
    "cols[:9] = data"
   ]
  },
  {
   "cell_type": "code",
   "execution_count": 207,
   "id": "a092ca73",
   "metadata": {},
   "outputs": [
    {
     "data": {
      "text/plain": [
       "['According to another reviewer, watching just one episode of Oz is enough to get you hooked.',\n",
       " 'The filming style of this production is unassuming and reminiscent of older BBC programs, which adds to the realism of the piece, sometimes in a discomforting way.',\n",
       " 'Spending a too-hot summer weekend in the air-conditioned theater to watch a light-hearted comedy was a wonderful way to pass the time.',\n",
       " \"The movie is about a family with a little boy named Jake who believes there's a zombie in his closet, and whose parents are constantly fighting. However, the film moves slower than a soap opera.\",\n",
       " 'Love in the Time of Money, directed by Petter Mattei, is visually stunning and offers a vivid portrayal of human relationships.',\n",
       " 'This movie is likely my favorite of all time. It tells a story of selflessness, sacrifice, and dedication to a noble cause without being preachy or boring.',\n",
       " 'I would enjoy seeing an updated version of the Seahunt series that incorporates modern technology.',\n",
       " \"When it first aired in the 1970s, this show was a fresh and innovative concept. While the first seven or eight years were brilliant, the show's quality declined afterwards.\",\n",
       " 'I was looking forward to watching this film based on the positive comments about it, but it turned out to be a bad mistake.',\n",
       " 'If you appreciate genuine, gut-wrenching laughter, then you will enjoy this movie.',\n",
       " '',\n",
       " '',\n",
       " '',\n",
       " '',\n",
       " '',\n",
       " '',\n",
       " '',\n",
       " '',\n",
       " '',\n",
       " '']"
      ]
     },
     "execution_count": 207,
     "metadata": {},
     "output_type": "execute_result"
    }
   ],
   "source": [
    "cols[:20]"
   ]
  },
  {
   "cell_type": "code",
   "execution_count": 212,
   "id": "c79fe483",
   "metadata": {},
   "outputs": [],
   "source": [
    "chatgpt_df = pd.DataFrame(cols).rename(columns = {0:\"sentence\"})"
   ]
  },
  {
   "cell_type": "code",
   "execution_count": 213,
   "id": "a395caff",
   "metadata": {},
   "outputs": [
    {
     "data": {
      "text/html": [
       "<div>\n",
       "<style scoped>\n",
       "    .dataframe tbody tr th:only-of-type {\n",
       "        vertical-align: middle;\n",
       "    }\n",
       "\n",
       "    .dataframe tbody tr th {\n",
       "        vertical-align: top;\n",
       "    }\n",
       "\n",
       "    .dataframe thead th {\n",
       "        text-align: right;\n",
       "    }\n",
       "</style>\n",
       "<table border=\"1\" class=\"dataframe\">\n",
       "  <thead>\n",
       "    <tr style=\"text-align: right;\">\n",
       "      <th></th>\n",
       "      <th>sentence</th>\n",
       "    </tr>\n",
       "  </thead>\n",
       "  <tbody>\n",
       "    <tr>\n",
       "      <th>0</th>\n",
       "      <td>According to another reviewer, watching just o...</td>\n",
       "    </tr>\n",
       "    <tr>\n",
       "      <th>1</th>\n",
       "      <td>The filming style of this production is unassu...</td>\n",
       "    </tr>\n",
       "    <tr>\n",
       "      <th>2</th>\n",
       "      <td>Spending a too-hot summer weekend in the air-c...</td>\n",
       "    </tr>\n",
       "    <tr>\n",
       "      <th>3</th>\n",
       "      <td>The movie is about a family with a little boy ...</td>\n",
       "    </tr>\n",
       "    <tr>\n",
       "      <th>4</th>\n",
       "      <td>Love in the Time of Money, directed by Petter ...</td>\n",
       "    </tr>\n",
       "    <tr>\n",
       "      <th>...</th>\n",
       "      <td>...</td>\n",
       "    </tr>\n",
       "    <tr>\n",
       "      <th>9996</th>\n",
       "      <td></td>\n",
       "    </tr>\n",
       "    <tr>\n",
       "      <th>9997</th>\n",
       "      <td></td>\n",
       "    </tr>\n",
       "    <tr>\n",
       "      <th>9998</th>\n",
       "      <td></td>\n",
       "    </tr>\n",
       "    <tr>\n",
       "      <th>9999</th>\n",
       "      <td></td>\n",
       "    </tr>\n",
       "    <tr>\n",
       "      <th>10000</th>\n",
       "      <td></td>\n",
       "    </tr>\n",
       "  </tbody>\n",
       "</table>\n",
       "<p>10001 rows × 1 columns</p>\n",
       "</div>"
      ],
      "text/plain": [
       "                                                sentence\n",
       "0      According to another reviewer, watching just o...\n",
       "1      The filming style of this production is unassu...\n",
       "2      Spending a too-hot summer weekend in the air-c...\n",
       "3      The movie is about a family with a little boy ...\n",
       "4      Love in the Time of Money, directed by Petter ...\n",
       "...                                                  ...\n",
       "9996                                                    \n",
       "9997                                                    \n",
       "9998                                                    \n",
       "9999                                                    \n",
       "10000                                                   \n",
       "\n",
       "[10001 rows x 1 columns]"
      ]
     },
     "execution_count": 213,
     "metadata": {},
     "output_type": "execute_result"
    }
   ],
   "source": [
    "chatgpt_df"
   ]
  }
 ],
 "metadata": {
  "kernelspec": {
   "display_name": "Python 3 (ipykernel)",
   "language": "python",
   "name": "python3"
  },
  "language_info": {
   "codemirror_mode": {
    "name": "ipython",
    "version": 3
   },
   "file_extension": ".py",
   "mimetype": "text/x-python",
   "name": "python",
   "nbconvert_exporter": "python",
   "pygments_lexer": "ipython3",
   "version": "3.10.0"
  }
 },
 "nbformat": 4,
 "nbformat_minor": 5
}
