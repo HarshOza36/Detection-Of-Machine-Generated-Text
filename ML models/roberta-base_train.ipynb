{
 "cells": [
  {
   "cell_type": "code",
   "execution_count": 1,
   "id": "79c1e4f0",
   "metadata": {
    "execution": {
     "iopub.execute_input": "2023-11-05T06:55:12.097760Z",
     "iopub.status.busy": "2023-11-05T06:55:12.097415Z",
     "iopub.status.idle": "2023-11-05T06:55:27.171077Z",
     "shell.execute_reply": "2023-11-05T06:55:27.169952Z"
    },
    "id": "0b7eee74",
    "outputId": "afb92e74-9252-4cbe-b271-4fc346b173b2",
    "papermill": {
     "duration": 15.083538,
     "end_time": "2023-11-05T06:55:27.173340",
     "exception": false,
     "start_time": "2023-11-05T06:55:12.089802",
     "status": "completed"
    },
    "tags": []
   },
   "outputs": [
    {
     "name": "stderr",
     "output_type": "stream",
     "text": [
      "/opt/conda/lib/python3.10/site-packages/scipy/__init__.py:146: UserWarning: A NumPy version >=1.16.5 and <1.23.0 is required for this version of SciPy (detected version 1.23.5\n",
      "  warnings.warn(f\"A NumPy version >={np_minversion} and <{np_maxversion}\"\n"
     ]
    },
    {
     "name": "stdout",
     "output_type": "stream",
     "text": [
      "[nltk_data] Downloading package punkt to /usr/share/nltk_data...\n",
      "[nltk_data]   Package punkt is already up-to-date!\n"
     ]
    }
   ],
   "source": [
    "import torch\n",
    "import torch.nn as nn\n",
    "import torch.nn.functional as F\n",
    "from torch.autograd import Variable\n",
    "import torchvision\n",
    "import torchvision.utils as vutils\n",
    "from torch.autograd import Variable\n",
    "from tqdm.notebook import tqdm_notebook\n",
    "from torch.utils.data import Dataset, DataLoader\n",
    "from torch.utils.data.sampler import SubsetRandomSampler\n",
    "import torchvision.transforms as transforms\n",
    "import random\n",
    "from sklearn.model_selection import train_test_split\n",
    "import numpy as np\n",
    "import matplotlib.pyplot as plt\n",
    "import pandas as pd\n",
    "from pathlib import Path\n",
    "from PIL import Image\n",
    "import cv2\n",
    "import time\n",
    "from tqdm.notebook import tqdm_notebook\n",
    "import time\n",
    "import os, shutil\n",
    "import matplotlib.animation as animation\n",
    "from mpl_toolkits.axes_grid1 import ImageGrid\n",
    "import sys, time\n",
    "from nibabel.testing import data_path\n",
    "import nibabel as nib\n",
    "from PIL import Image\n",
    "import scipy.ndimage as ndi\n",
    "import itertools\n",
    "import time\n",
    "from transformers import AutoTokenizer, AutoModel\n",
    "from torch.utils.data import DataLoader\n",
    "from transformers import DataCollatorWithPadding\n",
    "import tqdm\n",
    "import nltk\n",
    "nltk.download('punkt')\n",
    "from sklearn.metrics import roc_auc_score"
   ]
  },
  {
   "cell_type": "code",
   "execution_count": 2,
   "id": "00ece96d",
   "metadata": {
    "execution": {
     "iopub.execute_input": "2023-11-05T06:55:27.187097Z",
     "iopub.status.busy": "2023-11-05T06:55:27.186384Z",
     "iopub.status.idle": "2023-11-05T06:55:27.199415Z",
     "shell.execute_reply": "2023-11-05T06:55:27.198550Z"
    },
    "papermill": {
     "duration": 0.021713,
     "end_time": "2023-11-05T06:55:27.201263",
     "exception": false,
     "start_time": "2023-11-05T06:55:27.179550",
     "status": "completed"
    },
    "tags": []
   },
   "outputs": [
    {
     "data": {
      "text/plain": [
       "<torch._C.Generator at 0x7baff834b430>"
      ]
     },
     "execution_count": 2,
     "metadata": {},
     "output_type": "execute_result"
    }
   ],
   "source": [
    "# FOR REPRODUCIBILTY\n",
    "torch.manual_seed(100)\n",
    "np.random.seed(0)\n",
    "torch.backends.cudnn.deterministic = True\n",
    "torch.backends.cudnn.benchmark = False \n",
    "def seed_worker(worker_id):\n",
    "    worker_seed = torch.initial_seed() % 2**32\n",
    "    np.random.seed(worker_seed)\n",
    "    random.seed(worker_seed)\n",
    "\n",
    "g = torch.Generator()\n",
    "g.manual_seed(100)"
   ]
  },
  {
   "cell_type": "code",
   "execution_count": 3,
   "id": "4c08fc05",
   "metadata": {
    "execution": {
     "iopub.execute_input": "2023-11-05T06:55:27.214408Z",
     "iopub.status.busy": "2023-11-05T06:55:27.214098Z",
     "iopub.status.idle": "2023-11-05T06:55:27.298128Z",
     "shell.execute_reply": "2023-11-05T06:55:27.296987Z"
    },
    "id": "619475c8",
    "outputId": "ec38959d-a808-4665-bd5e-da7540265bf8",
    "papermill": {
     "duration": 0.09301,
     "end_time": "2023-11-05T06:55:27.300214",
     "exception": false,
     "start_time": "2023-11-05T06:55:27.207204",
     "status": "completed"
    },
    "tags": []
   },
   "outputs": [
    {
     "name": "stdout",
     "output_type": "stream",
     "text": [
      "True\n",
      "1\n"
     ]
    }
   ],
   "source": [
    "print(torch.cuda.is_available())\n",
    "print(torch.cuda.device_count())\n",
    "device = torch.device(\"cuda\")"
   ]
  },
  {
   "cell_type": "code",
   "execution_count": 4,
   "id": "e4832bdf",
   "metadata": {
    "execution": {
     "iopub.execute_input": "2023-11-05T06:55:27.314149Z",
     "iopub.status.busy": "2023-11-05T06:55:27.313801Z",
     "iopub.status.idle": "2023-11-05T06:55:30.884844Z",
     "shell.execute_reply": "2023-11-05T06:55:30.883778Z"
    },
    "id": "8cde69b7",
    "outputId": "ef89aea8-40bc-4a54-d89c-f6ec7974734b",
    "papermill": {
     "duration": 3.580241,
     "end_time": "2023-11-05T06:55:30.886902",
     "exception": false,
     "start_time": "2023-11-05T06:55:27.306661",
     "status": "completed"
    },
    "tags": []
   },
   "outputs": [
    {
     "data": {
      "text/html": [
       "<div>\n",
       "<style scoped>\n",
       "    .dataframe tbody tr th:only-of-type {\n",
       "        vertical-align: middle;\n",
       "    }\n",
       "\n",
       "    .dataframe tbody tr th {\n",
       "        vertical-align: top;\n",
       "    }\n",
       "\n",
       "    .dataframe thead th {\n",
       "        text-align: right;\n",
       "    }\n",
       "</style>\n",
       "<table border=\"1\" class=\"dataframe\">\n",
       "  <thead>\n",
       "    <tr style=\"text-align: right;\">\n",
       "      <th></th>\n",
       "      <th>sentence</th>\n",
       "      <th>class</th>\n",
       "    </tr>\n",
       "  </thead>\n",
       "  <tbody>\n",
       "    <tr>\n",
       "      <th>0</th>\n",
       "      <td>What city in the United States has the highest...</td>\n",
       "      <td>0</td>\n",
       "    </tr>\n",
       "    <tr>\n",
       "      <th>1</th>\n",
       "      <td>At work, wishing I was out on the boat</td>\n",
       "      <td>0</td>\n",
       "    </tr>\n",
       "    <tr>\n",
       "      <th>2</th>\n",
       "      <td>A smile is a curve that sets everything straig...</td>\n",
       "      <td>0</td>\n",
       "    </tr>\n",
       "    <tr>\n",
       "      <th>3</th>\n",
       "      <td>Does sleep quality mediate the association bet...</td>\n",
       "      <td>0</td>\n",
       "    </tr>\n",
       "    <tr>\n",
       "      <th>4</th>\n",
       "      <td>What city was found on the west bank of the ri...</td>\n",
       "      <td>0</td>\n",
       "    </tr>\n",
       "  </tbody>\n",
       "</table>\n",
       "</div>"
      ],
      "text/plain": [
       "                                            sentence  class\n",
       "0  What city in the United States has the highest...      0\n",
       "1            At work, wishing I was out on the boat       0\n",
       "2  A smile is a curve that sets everything straig...      0\n",
       "3  Does sleep quality mediate the association bet...      0\n",
       "4  What city was found on the west bank of the ri...      0"
      ]
     },
     "execution_count": 4,
     "metadata": {},
     "output_type": "execute_result"
    }
   ],
   "source": [
    "data = pd.read_csv(\"/kaggle/input/text-dataset/FinalDataset.csv\")\n",
    "data.head()"
   ]
  },
  {
   "cell_type": "code",
   "execution_count": 5,
   "id": "4d26c0ba",
   "metadata": {
    "execution": {
     "iopub.execute_input": "2023-11-05T06:55:30.901251Z",
     "iopub.status.busy": "2023-11-05T06:55:30.900918Z",
     "iopub.status.idle": "2023-11-05T06:55:30.919459Z",
     "shell.execute_reply": "2023-11-05T06:55:30.918647Z"
    },
    "id": "1f0320f0",
    "outputId": "77b95147-4386-4b2b-b608-4264c4b9ff41",
    "papermill": {
     "duration": 0.028078,
     "end_time": "2023-11-05T06:55:30.921487",
     "exception": false,
     "start_time": "2023-11-05T06:55:30.893409",
     "status": "completed"
    },
    "tags": []
   },
   "outputs": [
    {
     "data": {
      "text/plain": [
       "class\n",
       "0    400015\n",
       "1    376930\n",
       "Name: count, dtype: int64"
      ]
     },
     "execution_count": 5,
     "metadata": {},
     "output_type": "execute_result"
    }
   ],
   "source": [
    "data['class'].value_counts()"
   ]
  },
  {
   "cell_type": "code",
   "execution_count": 6,
   "id": "ef225530",
   "metadata": {
    "execution": {
     "iopub.execute_input": "2023-11-05T06:55:30.935171Z",
     "iopub.status.busy": "2023-11-05T06:55:30.934889Z",
     "iopub.status.idle": "2023-11-05T06:55:31.187287Z",
     "shell.execute_reply": "2023-11-05T06:55:31.186226Z"
    },
    "id": "3808bb2d",
    "papermill": {
     "duration": 0.26198,
     "end_time": "2023-11-05T06:55:31.189729",
     "exception": false,
     "start_time": "2023-11-05T06:55:30.927749",
     "status": "completed"
    },
    "tags": []
   },
   "outputs": [],
   "source": [
    "train_data, test_data = train_test_split(data, test_size=0.1, random_state=42)\n",
    "train_data, val_data = train_test_split(train_data, test_size=0.1, random_state=42)"
   ]
  },
  {
   "cell_type": "code",
   "execution_count": 7,
   "id": "37300834",
   "metadata": {
    "execution": {
     "iopub.execute_input": "2023-11-05T06:55:31.203821Z",
     "iopub.status.busy": "2023-11-05T06:55:31.203525Z",
     "iopub.status.idle": "2023-11-05T06:55:31.208980Z",
     "shell.execute_reply": "2023-11-05T06:55:31.207938Z"
    },
    "id": "416f2318",
    "outputId": "7a441f6f-b05b-43fa-eef9-7bbccf8173ef",
    "papermill": {
     "duration": 0.014559,
     "end_time": "2023-11-05T06:55:31.210909",
     "exception": false,
     "start_time": "2023-11-05T06:55:31.196350",
     "status": "completed"
    },
    "tags": []
   },
   "outputs": [
    {
     "name": "stdout",
     "output_type": "stream",
     "text": [
      "Train: 629325\n",
      "Val: 69925\n",
      "Test: 77695\n"
     ]
    }
   ],
   "source": [
    "print('Train:', len(train_data))\n",
    "print('Val:', len(val_data))\n",
    "print('Test:', len(test_data))"
   ]
  },
  {
   "cell_type": "code",
   "execution_count": 8,
   "id": "2af2450c",
   "metadata": {
    "execution": {
     "iopub.execute_input": "2023-11-05T06:55:31.225720Z",
     "iopub.status.busy": "2023-11-05T06:55:31.224847Z",
     "iopub.status.idle": "2023-11-05T06:55:31.237926Z",
     "shell.execute_reply": "2023-11-05T06:55:31.237066Z"
    },
    "id": "cca49120",
    "outputId": "d8f62b5c-14dd-41f0-af49-afc4ac240a0e",
    "papermill": {
     "duration": 0.022579,
     "end_time": "2023-11-05T06:55:31.239896",
     "exception": false,
     "start_time": "2023-11-05T06:55:31.217317",
     "status": "completed"
    },
    "tags": []
   },
   "outputs": [
    {
     "data": {
      "text/plain": [
       "class\n",
       "0    324086\n",
       "1    305239\n",
       "Name: count, dtype: int64"
      ]
     },
     "execution_count": 8,
     "metadata": {},
     "output_type": "execute_result"
    }
   ],
   "source": [
    "train_data['class'].value_counts()"
   ]
  },
  {
   "cell_type": "code",
   "execution_count": 9,
   "id": "1ddd2241",
   "metadata": {
    "execution": {
     "iopub.execute_input": "2023-11-05T06:55:31.254284Z",
     "iopub.status.busy": "2023-11-05T06:55:31.254006Z",
     "iopub.status.idle": "2023-11-05T06:55:31.261706Z",
     "shell.execute_reply": "2023-11-05T06:55:31.260845Z"
    },
    "id": "52ee9898",
    "outputId": "45e9ba20-4329-4d3f-bfee-5236ed3f09d2",
    "papermill": {
     "duration": 0.017013,
     "end_time": "2023-11-05T06:55:31.263602",
     "exception": false,
     "start_time": "2023-11-05T06:55:31.246589",
     "status": "completed"
    },
    "tags": []
   },
   "outputs": [
    {
     "data": {
      "text/plain": [
       "class\n",
       "0    36099\n",
       "1    33826\n",
       "Name: count, dtype: int64"
      ]
     },
     "execution_count": 9,
     "metadata": {},
     "output_type": "execute_result"
    }
   ],
   "source": [
    "val_data['class'].value_counts()"
   ]
  },
  {
   "cell_type": "code",
   "execution_count": 10,
   "id": "00104414",
   "metadata": {
    "execution": {
     "iopub.execute_input": "2023-11-05T06:55:31.277757Z",
     "iopub.status.busy": "2023-11-05T06:55:31.277456Z",
     "iopub.status.idle": "2023-11-05T06:55:31.284959Z",
     "shell.execute_reply": "2023-11-05T06:55:31.284117Z"
    },
    "id": "4099fb4b",
    "outputId": "25a87ef0-a180-4c8a-d221-d2d3046cd5d9",
    "papermill": {
     "duration": 0.016758,
     "end_time": "2023-11-05T06:55:31.286776",
     "exception": false,
     "start_time": "2023-11-05T06:55:31.270018",
     "status": "completed"
    },
    "tags": []
   },
   "outputs": [
    {
     "data": {
      "text/plain": [
       "class\n",
       "0    39830\n",
       "1    37865\n",
       "Name: count, dtype: int64"
      ]
     },
     "execution_count": 10,
     "metadata": {},
     "output_type": "execute_result"
    }
   ],
   "source": [
    "test_data['class'].value_counts()"
   ]
  },
  {
   "cell_type": "code",
   "execution_count": 11,
   "id": "52e88a8a",
   "metadata": {
    "execution": {
     "iopub.execute_input": "2023-11-05T06:55:31.301357Z",
     "iopub.status.busy": "2023-11-05T06:55:31.301062Z",
     "iopub.status.idle": "2023-11-05T06:55:31.307757Z",
     "shell.execute_reply": "2023-11-05T06:55:31.306887Z"
    },
    "id": "2ff28ab1",
    "papermill": {
     "duration": 0.016089,
     "end_time": "2023-11-05T06:55:31.309634",
     "exception": false,
     "start_time": "2023-11-05T06:55:31.293545",
     "status": "completed"
    },
    "tags": []
   },
   "outputs": [],
   "source": [
    "# CREATE DATASET CLASS FOR DATALOADERS\n",
    "class Dataset(Dataset):\n",
    "    def __init__(self, dataframe):\n",
    "        self.texts = dataframe['sentence'].values.tolist()\n",
    "        self.labels = dataframe['class'].values.tolist()\n",
    "        \n",
    "    def __len__(self):\n",
    "        return len(self.texts)\n",
    "    \n",
    "    def __getitem__(self, idx):\n",
    "        X = self.texts[idx]\n",
    "        y = self.labels[idx]\n",
    "        X = X.lower()\n",
    "        tokens = nltk.word_tokenize(X, language=\"english\")\n",
    "        X = \" \".join(tokens)\n",
    "        X = X.strip()\n",
    "        \n",
    "        return X, y"
   ]
  },
  {
   "cell_type": "code",
   "execution_count": 12,
   "id": "ce226f1b",
   "metadata": {
    "execution": {
     "iopub.execute_input": "2023-11-05T06:55:31.324582Z",
     "iopub.status.busy": "2023-11-05T06:55:31.324248Z",
     "iopub.status.idle": "2023-11-05T06:55:31.330434Z",
     "shell.execute_reply": "2023-11-05T06:55:31.329594Z"
    },
    "id": "e492719a",
    "papermill": {
     "duration": 0.015721,
     "end_time": "2023-11-05T06:55:31.332277",
     "exception": false,
     "start_time": "2023-11-05T06:55:31.316556",
     "status": "completed"
    },
    "tags": []
   },
   "outputs": [],
   "source": [
    "class transformer(nn.Module):\n",
    "    def __init__(self, base_model):\n",
    "        super(transformer, self).__init__()\n",
    "\n",
    "        self.bert = base_model\n",
    "        self.fc = nn.Linear(768, 1)\n",
    "        self.sigmoid = nn.Sigmoid()\n",
    "        \n",
    "    def forward(self, input_ids, attention_mask):\n",
    "        bert_out = self.bert(input_ids=input_ids,\n",
    "                             attention_mask=attention_mask)[0][:, 0]\n",
    "        x = self.fc(bert_out)        \n",
    "        x = self.sigmoid(x)\n",
    "\n",
    "        return x"
   ]
  },
  {
   "cell_type": "code",
   "execution_count": 13,
   "id": "bd1b193d",
   "metadata": {
    "execution": {
     "iopub.execute_input": "2023-11-05T06:55:31.346933Z",
     "iopub.status.busy": "2023-11-05T06:55:31.346668Z",
     "iopub.status.idle": "2023-11-05T06:55:42.748847Z",
     "shell.execute_reply": "2023-11-05T06:55:42.747965Z"
    },
    "id": "075d94d4",
    "outputId": "18632e96-5337-4aea-edfe-3d1c87dbd02c",
    "papermill": {
     "duration": 11.412151,
     "end_time": "2023-11-05T06:55:42.751304",
     "exception": false,
     "start_time": "2023-11-05T06:55:31.339153",
     "status": "completed"
    },
    "tags": []
   },
   "outputs": [
    {
     "data": {
      "application/vnd.jupyter.widget-view+json": {
       "model_id": "77155e6b00be44c5b007b3dbcba27424",
       "version_major": 2,
       "version_minor": 0
      },
      "text/plain": [
       "Downloading (…)lve/main/config.json:   0%|          | 0.00/481 [00:00<?, ?B/s]"
      ]
     },
     "metadata": {},
     "output_type": "display_data"
    },
    {
     "data": {
      "application/vnd.jupyter.widget-view+json": {
       "model_id": "0086098190c649f2b0cfbe84dd9c91c9",
       "version_major": 2,
       "version_minor": 0
      },
      "text/plain": [
       "Downloading (…)olve/main/vocab.json:   0%|          | 0.00/899k [00:00<?, ?B/s]"
      ]
     },
     "metadata": {},
     "output_type": "display_data"
    },
    {
     "data": {
      "application/vnd.jupyter.widget-view+json": {
       "model_id": "56b5807cbe734652885c06422ca57080",
       "version_major": 2,
       "version_minor": 0
      },
      "text/plain": [
       "Downloading (…)olve/main/merges.txt:   0%|          | 0.00/456k [00:00<?, ?B/s]"
      ]
     },
     "metadata": {},
     "output_type": "display_data"
    },
    {
     "data": {
      "application/vnd.jupyter.widget-view+json": {
       "model_id": "041829169a78444b817df5100c4d672f",
       "version_major": 2,
       "version_minor": 0
      },
      "text/plain": [
       "Downloading (…)/main/tokenizer.json:   0%|          | 0.00/1.36M [00:00<?, ?B/s]"
      ]
     },
     "metadata": {},
     "output_type": "display_data"
    },
    {
     "data": {
      "application/vnd.jupyter.widget-view+json": {
       "model_id": "f9df21660b1d4bb4a9f59461fa73c330",
       "version_major": 2,
       "version_minor": 0
      },
      "text/plain": [
       "Downloading model.safetensors:   0%|          | 0.00/499M [00:00<?, ?B/s]"
      ]
     },
     "metadata": {},
     "output_type": "display_data"
    },
    {
     "name": "stderr",
     "output_type": "stream",
     "text": [
      "Some weights of RobertaModel were not initialized from the model checkpoint at roberta-base and are newly initialized: ['roberta.pooler.dense.weight', 'roberta.pooler.dense.bias']\n",
      "You should probably TRAIN this model on a down-stream task to be able to use it for predictions and inference.\n"
     ]
    }
   ],
   "source": [
    "BERT_MODEL = \"roberta-base\"\n",
    "tokenizer = AutoTokenizer.from_pretrained(BERT_MODEL)\n",
    "base_model = AutoModel.from_pretrained(BERT_MODEL)\n",
    "\n",
    "model = transformer(base_model)\n",
    "model = model.to(device)"
   ]
  },
  {
   "cell_type": "code",
   "execution_count": 14,
   "id": "9ab73b87",
   "metadata": {
    "execution": {
     "iopub.execute_input": "2023-11-05T06:55:42.770105Z",
     "iopub.status.busy": "2023-11-05T06:55:42.769303Z",
     "iopub.status.idle": "2023-11-05T06:55:42.775330Z",
     "shell.execute_reply": "2023-11-05T06:55:42.774392Z"
    },
    "id": "e9800b11",
    "papermill": {
     "duration": 0.017552,
     "end_time": "2023-11-05T06:55:42.777376",
     "exception": false,
     "start_time": "2023-11-05T06:55:42.759824",
     "status": "completed"
    },
    "tags": []
   },
   "outputs": [],
   "source": [
    "def collate_fn(batch):    \n",
    "    x, y = [], []\n",
    "    for text, label in batch:\n",
    "        x.append(text)\n",
    "        y.append(label)\n",
    "    padded_text = tokenizer(x, padding=True, truncation=True, return_tensors='pt')\n",
    "    \n",
    "    return padded_text, torch.FloatTensor(y)"
   ]
  },
  {
   "cell_type": "code",
   "execution_count": 15,
   "id": "3532def0",
   "metadata": {
    "execution": {
     "iopub.execute_input": "2023-11-05T06:55:42.794391Z",
     "iopub.status.busy": "2023-11-05T06:55:42.794095Z",
     "iopub.status.idle": "2023-11-05T06:55:42.840992Z",
     "shell.execute_reply": "2023-11-05T06:55:42.840158Z"
    },
    "id": "42a2a54b",
    "papermill": {
     "duration": 0.057954,
     "end_time": "2023-11-05T06:55:42.843127",
     "exception": false,
     "start_time": "2023-11-05T06:55:42.785173",
     "status": "completed"
    },
    "tags": []
   },
   "outputs": [],
   "source": [
    "train_dataloader = DataLoader(Dataset(train_data), batch_size=20, shuffle=True, num_workers=2, collate_fn=collate_fn, pin_memory=True, worker_init_fn=seed_worker, generator=g)\n",
    "val_dataloader = DataLoader(Dataset(val_data), batch_size=20, num_workers=2, collate_fn=collate_fn, pin_memory=True, worker_init_fn=seed_worker, generator=g)"
   ]
  },
  {
   "cell_type": "code",
   "execution_count": 16,
   "id": "e3fed694",
   "metadata": {
    "execution": {
     "iopub.execute_input": "2023-11-05T06:55:42.862406Z",
     "iopub.status.busy": "2023-11-05T06:55:42.862049Z",
     "iopub.status.idle": "2023-11-05T06:55:43.255089Z",
     "shell.execute_reply": "2023-11-05T06:55:43.253908Z"
    },
    "id": "c0303e51",
    "outputId": "04e96b1f-d549-4fa8-adbf-9d131c6d2810",
    "papermill": {
     "duration": 0.405072,
     "end_time": "2023-11-05T06:55:43.257329",
     "exception": false,
     "start_time": "2023-11-05T06:55:42.852257",
     "status": "completed"
    },
    "tags": []
   },
   "outputs": [
    {
     "name": "stdout",
     "output_type": "stream",
     "text": [
      "(20, 227)\n"
     ]
    }
   ],
   "source": [
    "for train_input, train_label in train_dataloader:\n",
    "    print(np.array(train_input['input_ids']).shape)\n",
    "    break"
   ]
  },
  {
   "cell_type": "code",
   "execution_count": 17,
   "id": "ed40d337",
   "metadata": {
    "execution": {
     "iopub.execute_input": "2023-11-05T06:55:43.275004Z",
     "iopub.status.busy": "2023-11-05T06:55:43.274189Z",
     "iopub.status.idle": "2023-11-05T06:55:43.281081Z",
     "shell.execute_reply": "2023-11-05T06:55:43.280212Z"
    },
    "id": "c730c14c",
    "papermill": {
     "duration": 0.01768,
     "end_time": "2023-11-05T06:55:43.282983",
     "exception": false,
     "start_time": "2023-11-05T06:55:43.265303",
     "status": "completed"
    },
    "tags": []
   },
   "outputs": [],
   "source": [
    "criterion = nn.BCELoss()\n",
    "optimizer = torch.optim.Adam(model.parameters(), lr=1e-5)"
   ]
  },
  {
   "cell_type": "code",
   "execution_count": 18,
   "id": "db70b4f2",
   "metadata": {
    "execution": {
     "iopub.execute_input": "2023-11-05T06:55:43.300424Z",
     "iopub.status.busy": "2023-11-05T06:55:43.299780Z",
     "iopub.status.idle": "2023-11-05T17:53:29.796923Z",
     "shell.execute_reply": "2023-11-05T17:53:29.795713Z"
    },
    "id": "b2648a24",
    "outputId": "37275250-e3a4-4793-8e40-905840486925",
    "papermill": {
     "duration": 39466.516175,
     "end_time": "2023-11-05T17:53:29.807062",
     "exception": false,
     "start_time": "2023-11-05T06:55:43.290887",
     "status": "completed"
    },
    "tags": []
   },
   "outputs": [
    {
     "name": "stdout",
     "output_type": "stream",
     "text": [
      "Epochs: 1\n",
      "Train Loss: 0.15381238223897173\n",
      "Train AUCROC: 0.9362706728110536\n",
      "Val Loss: 0.1476095399311075\n",
      "Val AUCROC: 0.9447882146766933\n",
      "Saved model\n",
      "====================================================================================\n",
      "Epochs: 2\n",
      "Train Loss: 0.10351142465464726\n",
      "Train AUCROC: 0.9583670479854669\n",
      "Val Loss: 0.12317577668538895\n",
      "Val AUCROC: 0.9537594952599847\n",
      "Saved model\n",
      "====================================================================================\n",
      "Epochs: 3\n",
      "Train Loss: 0.08006213666340155\n",
      "Train AUCROC: 0.9685622448425615\n",
      "Val Loss: 0.12661757237822682\n",
      "Val AUCROC: 0.9553798028747147\n",
      "Early stopping\n"
     ]
    }
   ],
   "source": [
    "count_train = 0\n",
    "count_test = 0\n",
    "best_val_loss = float('inf')\n",
    "early_stopping_threshold_count = 0\n",
    "\n",
    "for epoch in range(5):\n",
    "    total_acc_train = 0\n",
    "    total_loss_train = 0\n",
    "\n",
    "    model.train()\n",
    "\n",
    "    for train_input, train_label in train_dataloader:\n",
    "        \n",
    "        attention_mask = train_input['attention_mask'].to(device)\n",
    "        input_ids = train_input['input_ids'].squeeze(1).to(device)\n",
    "        train_label = train_label.to(device)\n",
    "\n",
    "        output = model(input_ids, attention_mask)\n",
    "\n",
    "        loss = criterion(output, train_label.float().unsqueeze(1))\n",
    "\n",
    "        total_loss_train += loss.item()\n",
    "        \n",
    "        pred = (output >= 0.5).int()\n",
    "        label = train_label.unsqueeze(1)\n",
    "        try:\n",
    "            auc_roc = roc_auc_score(label.cpu(), pred.cpu())\n",
    "        except:\n",
    "            count_train += 1\n",
    "            auc_roc = 0\n",
    "        total_acc_train += auc_roc\n",
    "\n",
    "        loss.backward()\n",
    "        optimizer.step()\n",
    "        optimizer.zero_grad()\n",
    "\n",
    "    with torch.no_grad():\n",
    "        total_acc_val = 0\n",
    "        total_loss_val = 0\n",
    "\n",
    "        model.eval()\n",
    "\n",
    "        for val_input, val_label in val_dataloader:\n",
    "            attention_mask = val_input['attention_mask'].to(device)\n",
    "            input_ids = val_input['input_ids'].squeeze(1).to(device)\n",
    "\n",
    "            val_label = val_label.to(device)\n",
    "\n",
    "            output = model(input_ids, attention_mask)\n",
    "\n",
    "            loss = criterion(output, val_label.float().unsqueeze(1))\n",
    "\n",
    "            total_loss_val += loss.item()\n",
    "\n",
    "            pred = (output >= 0.5).int()\n",
    "            label = val_label.unsqueeze(1)\n",
    "            try:\n",
    "                auc_roc = roc_auc_score(label.cpu(), pred.cpu())\n",
    "            except:\n",
    "                count_test += 1\n",
    "                auc_roc = 0\n",
    "            total_acc_val += auc_roc\n",
    "\n",
    "        print(\"Epochs:\", epoch + 1)\n",
    "        print(\"Train Loss:\", total_loss_train/len(train_dataloader))\n",
    "        print(\"Train AUCROC:\", total_acc_train/(len(train_dataloader)-count_train))\n",
    "        print(\"Val Loss:\", total_loss_val/len(val_dataloader))\n",
    "        print(\"Val AUCROC:\", total_acc_val/(len(val_dataloader)-count_test))\n",
    "\n",
    "        if best_val_loss > total_loss_val:\n",
    "            best_val_loss = total_loss_val\n",
    "            torch.save(model, f\"best_model.pt\")\n",
    "            print(\"Saved model\")\n",
    "            early_stopping_threshold_count = 0\n",
    "        else:\n",
    "            early_stopping_threshold_count += 1\n",
    "\n",
    "        if early_stopping_threshold_count >= 1:\n",
    "            print(\"Early stopping\")\n",
    "            break\n",
    "            \n",
    "        count_train = 0\n",
    "        count_test = 0\n",
    "            \n",
    "        print(\"====================================================================================\")"
   ]
  },
  {
   "cell_type": "code",
   "execution_count": null,
   "id": "5dd17810",
   "metadata": {
    "id": "1961789d",
    "papermill": {
     "duration": 0.008309,
     "end_time": "2023-11-05T17:53:29.823614",
     "exception": false,
     "start_time": "2023-11-05T17:53:29.815305",
     "status": "completed"
    },
    "tags": []
   },
   "outputs": [],
   "source": []
  }
 ],
 "metadata": {
  "kernelspec": {
   "display_name": "Python 3",
   "language": "python",
   "name": "python3"
  },
  "language_info": {
   "codemirror_mode": {
    "name": "ipython",
    "version": 3
   },
   "file_extension": ".py",
   "mimetype": "text/x-python",
   "name": "python",
   "nbconvert_exporter": "python",
   "pygments_lexer": "ipython3",
   "version": "3.10.12"
  },
  "papermill": {
   "default_parameters": {},
   "duration": 39504.101397,
   "end_time": "2023-11-05T17:53:32.824686",
   "environment_variables": {},
   "exception": null,
   "input_path": "__notebook__.ipynb",
   "output_path": "__notebook__.ipynb",
   "parameters": {},
   "start_time": "2023-11-05T06:55:08.723289",
   "version": "2.4.0"
  },
  "widgets": {
   "application/vnd.jupyter.widget-state+json": {
    "state": {
     "00600ff19ddb4895ae638a6c191bf332": {
      "model_module": "@jupyter-widgets/base",
      "model_module_version": "1.2.0",
      "model_name": "LayoutModel",
      "state": {
       "_model_module": "@jupyter-widgets/base",
       "_model_module_version": "1.2.0",
       "_model_name": "LayoutModel",
       "_view_count": null,
       "_view_module": "@jupyter-widgets/base",
       "_view_module_version": "1.2.0",
       "_view_name": "LayoutView",
       "align_content": null,
       "align_items": null,
       "align_self": null,
       "border": null,
       "bottom": null,
       "display": null,
       "flex": null,
       "flex_flow": null,
       "grid_area": null,
       "grid_auto_columns": null,
       "grid_auto_flow": null,
       "grid_auto_rows": null,
       "grid_column": null,
       "grid_gap": null,
       "grid_row": null,
       "grid_template_areas": null,
       "grid_template_columns": null,
       "grid_template_rows": null,
       "height": null,
       "justify_content": null,
       "justify_items": null,
       "left": null,
       "margin": null,
       "max_height": null,
       "max_width": null,
       "min_height": null,
       "min_width": null,
       "object_fit": null,
       "object_position": null,
       "order": null,
       "overflow": null,
       "overflow_x": null,
       "overflow_y": null,
       "padding": null,
       "right": null,
       "top": null,
       "visibility": null,
       "width": null
      }
     },
     "0086098190c649f2b0cfbe84dd9c91c9": {
      "model_module": "@jupyter-widgets/controls",
      "model_module_version": "1.5.0",
      "model_name": "HBoxModel",
      "state": {
       "_dom_classes": [],
       "_model_module": "@jupyter-widgets/controls",
       "_model_module_version": "1.5.0",
       "_model_name": "HBoxModel",
       "_view_count": null,
       "_view_module": "@jupyter-widgets/controls",
       "_view_module_version": "1.5.0",
       "_view_name": "HBoxView",
       "box_style": "",
       "children": [
        "IPY_MODEL_e4213eea289e45a8b4bd0dcb88cf27bb",
        "IPY_MODEL_48f7f031d3e84d229bba134430b1591b",
        "IPY_MODEL_c175adf08f064fe0bf1fc82265c88865"
       ],
       "layout": "IPY_MODEL_5db89ecb180b48c8849156b0daed7092"
      }
     },
     "041829169a78444b817df5100c4d672f": {
      "model_module": "@jupyter-widgets/controls",
      "model_module_version": "1.5.0",
      "model_name": "HBoxModel",
      "state": {
       "_dom_classes": [],
       "_model_module": "@jupyter-widgets/controls",
       "_model_module_version": "1.5.0",
       "_model_name": "HBoxModel",
       "_view_count": null,
       "_view_module": "@jupyter-widgets/controls",
       "_view_module_version": "1.5.0",
       "_view_name": "HBoxView",
       "box_style": "",
       "children": [
        "IPY_MODEL_48964bcb2de64b309ab5510b83f7368c",
        "IPY_MODEL_c165dbb75adc460b86393f67ee4f50eb",
        "IPY_MODEL_a68c1d89207c4bb38e2d57c6ceb38313"
       ],
       "layout": "IPY_MODEL_405303d1952f4db1b5308dd0ca204eb4"
      }
     },
     "08094f63d9184da4830b194849cbb80b": {
      "model_module": "@jupyter-widgets/base",
      "model_module_version": "1.2.0",
      "model_name": "LayoutModel",
      "state": {
       "_model_module": "@jupyter-widgets/base",
       "_model_module_version": "1.2.0",
       "_model_name": "LayoutModel",
       "_view_count": null,
       "_view_module": "@jupyter-widgets/base",
       "_view_module_version": "1.2.0",
       "_view_name": "LayoutView",
       "align_content": null,
       "align_items": null,
       "align_self": null,
       "border": null,
       "bottom": null,
       "display": null,
       "flex": null,
       "flex_flow": null,
       "grid_area": null,
       "grid_auto_columns": null,
       "grid_auto_flow": null,
       "grid_auto_rows": null,
       "grid_column": null,
       "grid_gap": null,
       "grid_row": null,
       "grid_template_areas": null,
       "grid_template_columns": null,
       "grid_template_rows": null,
       "height": null,
       "justify_content": null,
       "justify_items": null,
       "left": null,
       "margin": null,
       "max_height": null,
       "max_width": null,
       "min_height": null,
       "min_width": null,
       "object_fit": null,
       "object_position": null,
       "order": null,
       "overflow": null,
       "overflow_x": null,
       "overflow_y": null,
       "padding": null,
       "right": null,
       "top": null,
       "visibility": null,
       "width": null
      }
     },
     "0c70d0efa1244b99941b128dbf76a9a8": {
      "model_module": "@jupyter-widgets/base",
      "model_module_version": "1.2.0",
      "model_name": "LayoutModel",
      "state": {
       "_model_module": "@jupyter-widgets/base",
       "_model_module_version": "1.2.0",
       "_model_name": "LayoutModel",
       "_view_count": null,
       "_view_module": "@jupyter-widgets/base",
       "_view_module_version": "1.2.0",
       "_view_name": "LayoutView",
       "align_content": null,
       "align_items": null,
       "align_self": null,
       "border": null,
       "bottom": null,
       "display": null,
       "flex": null,
       "flex_flow": null,
       "grid_area": null,
       "grid_auto_columns": null,
       "grid_auto_flow": null,
       "grid_auto_rows": null,
       "grid_column": null,
       "grid_gap": null,
       "grid_row": null,
       "grid_template_areas": null,
       "grid_template_columns": null,
       "grid_template_rows": null,
       "height": null,
       "justify_content": null,
       "justify_items": null,
       "left": null,
       "margin": null,
       "max_height": null,
       "max_width": null,
       "min_height": null,
       "min_width": null,
       "object_fit": null,
       "object_position": null,
       "order": null,
       "overflow": null,
       "overflow_x": null,
       "overflow_y": null,
       "padding": null,
       "right": null,
       "top": null,
       "visibility": null,
       "width": null
      }
     },
     "137084e5967b4fa4ade879cd0f8f15c1": {
      "model_module": "@jupyter-widgets/controls",
      "model_module_version": "1.5.0",
      "model_name": "FloatProgressModel",
      "state": {
       "_dom_classes": [],
       "_model_module": "@jupyter-widgets/controls",
       "_model_module_version": "1.5.0",
       "_model_name": "FloatProgressModel",
       "_view_count": null,
       "_view_module": "@jupyter-widgets/controls",
       "_view_module_version": "1.5.0",
       "_view_name": "ProgressView",
       "bar_style": "success",
       "description": "",
       "description_tooltip": null,
       "layout": "IPY_MODEL_54923a8145034967bc7944643eda67b5",
       "max": 498818054.0,
       "min": 0.0,
       "orientation": "horizontal",
       "style": "IPY_MODEL_3906e3c661504efe8dd0d834292d8244",
       "value": 498818054.0
      }
     },
     "14e81008d57644629b4a997c7cecb06c": {
      "model_module": "@jupyter-widgets/controls",
      "model_module_version": "1.5.0",
      "model_name": "ProgressStyleModel",
      "state": {
       "_model_module": "@jupyter-widgets/controls",
       "_model_module_version": "1.5.0",
       "_model_name": "ProgressStyleModel",
       "_view_count": null,
       "_view_module": "@jupyter-widgets/base",
       "_view_module_version": "1.2.0",
       "_view_name": "StyleView",
       "bar_color": null,
       "description_width": ""
      }
     },
     "1cda1d755d73498d94ec3259b78c11c5": {
      "model_module": "@jupyter-widgets/base",
      "model_module_version": "1.2.0",
      "model_name": "LayoutModel",
      "state": {
       "_model_module": "@jupyter-widgets/base",
       "_model_module_version": "1.2.0",
       "_model_name": "LayoutModel",
       "_view_count": null,
       "_view_module": "@jupyter-widgets/base",
       "_view_module_version": "1.2.0",
       "_view_name": "LayoutView",
       "align_content": null,
       "align_items": null,
       "align_self": null,
       "border": null,
       "bottom": null,
       "display": null,
       "flex": null,
       "flex_flow": null,
       "grid_area": null,
       "grid_auto_columns": null,
       "grid_auto_flow": null,
       "grid_auto_rows": null,
       "grid_column": null,
       "grid_gap": null,
       "grid_row": null,
       "grid_template_areas": null,
       "grid_template_columns": null,
       "grid_template_rows": null,
       "height": null,
       "justify_content": null,
       "justify_items": null,
       "left": null,
       "margin": null,
       "max_height": null,
       "max_width": null,
       "min_height": null,
       "min_width": null,
       "object_fit": null,
       "object_position": null,
       "order": null,
       "overflow": null,
       "overflow_x": null,
       "overflow_y": null,
       "padding": null,
       "right": null,
       "top": null,
       "visibility": null,
       "width": null
      }
     },
     "1f1ef48c239c4eb0814fdbad15c668c4": {
      "model_module": "@jupyter-widgets/controls",
      "model_module_version": "1.5.0",
      "model_name": "HTMLModel",
      "state": {
       "_dom_classes": [],
       "_model_module": "@jupyter-widgets/controls",
       "_model_module_version": "1.5.0",
       "_model_name": "HTMLModel",
       "_view_count": null,
       "_view_module": "@jupyter-widgets/controls",
       "_view_module_version": "1.5.0",
       "_view_name": "HTMLView",
       "description": "",
       "description_tooltip": null,
       "layout": "IPY_MODEL_77a9aaeb93d4416b96bcfd565585a30f",
       "placeholder": "​",
       "style": "IPY_MODEL_3f5bf48d529446dda7e852e86fe3eead",
       "value": "Downloading model.safetensors: 100%"
      }
     },
     "2022070369dd4664bf3dbd0c85c0d6bd": {
      "model_module": "@jupyter-widgets/controls",
      "model_module_version": "1.5.0",
      "model_name": "DescriptionStyleModel",
      "state": {
       "_model_module": "@jupyter-widgets/controls",
       "_model_module_version": "1.5.0",
       "_model_name": "DescriptionStyleModel",
       "_view_count": null,
       "_view_module": "@jupyter-widgets/base",
       "_view_module_version": "1.2.0",
       "_view_name": "StyleView",
       "description_width": ""
      }
     },
     "22912e6f28d04db0b0d98e32bffee6fe": {
      "model_module": "@jupyter-widgets/controls",
      "model_module_version": "1.5.0",
      "model_name": "ProgressStyleModel",
      "state": {
       "_model_module": "@jupyter-widgets/controls",
       "_model_module_version": "1.5.0",
       "_model_name": "ProgressStyleModel",
       "_view_count": null,
       "_view_module": "@jupyter-widgets/base",
       "_view_module_version": "1.2.0",
       "_view_name": "StyleView",
       "bar_color": null,
       "description_width": ""
      }
     },
     "234962a9dae1438f9a787235357451b9": {
      "model_module": "@jupyter-widgets/base",
      "model_module_version": "1.2.0",
      "model_name": "LayoutModel",
      "state": {
       "_model_module": "@jupyter-widgets/base",
       "_model_module_version": "1.2.0",
       "_model_name": "LayoutModel",
       "_view_count": null,
       "_view_module": "@jupyter-widgets/base",
       "_view_module_version": "1.2.0",
       "_view_name": "LayoutView",
       "align_content": null,
       "align_items": null,
       "align_self": null,
       "border": null,
       "bottom": null,
       "display": null,
       "flex": null,
       "flex_flow": null,
       "grid_area": null,
       "grid_auto_columns": null,
       "grid_auto_flow": null,
       "grid_auto_rows": null,
       "grid_column": null,
       "grid_gap": null,
       "grid_row": null,
       "grid_template_areas": null,
       "grid_template_columns": null,
       "grid_template_rows": null,
       "height": null,
       "justify_content": null,
       "justify_items": null,
       "left": null,
       "margin": null,
       "max_height": null,
       "max_width": null,
       "min_height": null,
       "min_width": null,
       "object_fit": null,
       "object_position": null,
       "order": null,
       "overflow": null,
       "overflow_x": null,
       "overflow_y": null,
       "padding": null,
       "right": null,
       "top": null,
       "visibility": null,
       "width": null
      }
     },
     "27d731c237a945f88e01cdc718be4604": {
      "model_module": "@jupyter-widgets/controls",
      "model_module_version": "1.5.0",
      "model_name": "DescriptionStyleModel",
      "state": {
       "_model_module": "@jupyter-widgets/controls",
       "_model_module_version": "1.5.0",
       "_model_name": "DescriptionStyleModel",
       "_view_count": null,
       "_view_module": "@jupyter-widgets/base",
       "_view_module_version": "1.2.0",
       "_view_name": "StyleView",
       "description_width": ""
      }
     },
     "2928c7a569d742e6885a6e4ccde40f5a": {
      "model_module": "@jupyter-widgets/controls",
      "model_module_version": "1.5.0",
      "model_name": "DescriptionStyleModel",
      "state": {
       "_model_module": "@jupyter-widgets/controls",
       "_model_module_version": "1.5.0",
       "_model_name": "DescriptionStyleModel",
       "_view_count": null,
       "_view_module": "@jupyter-widgets/base",
       "_view_module_version": "1.2.0",
       "_view_name": "StyleView",
       "description_width": ""
      }
     },
     "32013707c1e84c0088f5923a789ae5e1": {
      "model_module": "@jupyter-widgets/base",
      "model_module_version": "1.2.0",
      "model_name": "LayoutModel",
      "state": {
       "_model_module": "@jupyter-widgets/base",
       "_model_module_version": "1.2.0",
       "_model_name": "LayoutModel",
       "_view_count": null,
       "_view_module": "@jupyter-widgets/base",
       "_view_module_version": "1.2.0",
       "_view_name": "LayoutView",
       "align_content": null,
       "align_items": null,
       "align_self": null,
       "border": null,
       "bottom": null,
       "display": null,
       "flex": null,
       "flex_flow": null,
       "grid_area": null,
       "grid_auto_columns": null,
       "grid_auto_flow": null,
       "grid_auto_rows": null,
       "grid_column": null,
       "grid_gap": null,
       "grid_row": null,
       "grid_template_areas": null,
       "grid_template_columns": null,
       "grid_template_rows": null,
       "height": null,
       "justify_content": null,
       "justify_items": null,
       "left": null,
       "margin": null,
       "max_height": null,
       "max_width": null,
       "min_height": null,
       "min_width": null,
       "object_fit": null,
       "object_position": null,
       "order": null,
       "overflow": null,
       "overflow_x": null,
       "overflow_y": null,
       "padding": null,
       "right": null,
       "top": null,
       "visibility": null,
       "width": null
      }
     },
     "3906e3c661504efe8dd0d834292d8244": {
      "model_module": "@jupyter-widgets/controls",
      "model_module_version": "1.5.0",
      "model_name": "ProgressStyleModel",
      "state": {
       "_model_module": "@jupyter-widgets/controls",
       "_model_module_version": "1.5.0",
       "_model_name": "ProgressStyleModel",
       "_view_count": null,
       "_view_module": "@jupyter-widgets/base",
       "_view_module_version": "1.2.0",
       "_view_name": "StyleView",
       "bar_color": null,
       "description_width": ""
      }
     },
     "3c137254ddb94e178a72f5abf2b521ba": {
      "model_module": "@jupyter-widgets/base",
      "model_module_version": "1.2.0",
      "model_name": "LayoutModel",
      "state": {
       "_model_module": "@jupyter-widgets/base",
       "_model_module_version": "1.2.0",
       "_model_name": "LayoutModel",
       "_view_count": null,
       "_view_module": "@jupyter-widgets/base",
       "_view_module_version": "1.2.0",
       "_view_name": "LayoutView",
       "align_content": null,
       "align_items": null,
       "align_self": null,
       "border": null,
       "bottom": null,
       "display": null,
       "flex": null,
       "flex_flow": null,
       "grid_area": null,
       "grid_auto_columns": null,
       "grid_auto_flow": null,
       "grid_auto_rows": null,
       "grid_column": null,
       "grid_gap": null,
       "grid_row": null,
       "grid_template_areas": null,
       "grid_template_columns": null,
       "grid_template_rows": null,
       "height": null,
       "justify_content": null,
       "justify_items": null,
       "left": null,
       "margin": null,
       "max_height": null,
       "max_width": null,
       "min_height": null,
       "min_width": null,
       "object_fit": null,
       "object_position": null,
       "order": null,
       "overflow": null,
       "overflow_x": null,
       "overflow_y": null,
       "padding": null,
       "right": null,
       "top": null,
       "visibility": null,
       "width": null
      }
     },
     "3d7dfc47b36a4136bd16182f4c2f6cd2": {
      "model_module": "@jupyter-widgets/controls",
      "model_module_version": "1.5.0",
      "model_name": "DescriptionStyleModel",
      "state": {
       "_model_module": "@jupyter-widgets/controls",
       "_model_module_version": "1.5.0",
       "_model_name": "DescriptionStyleModel",
       "_view_count": null,
       "_view_module": "@jupyter-widgets/base",
       "_view_module_version": "1.2.0",
       "_view_name": "StyleView",
       "description_width": ""
      }
     },
     "3f5bf48d529446dda7e852e86fe3eead": {
      "model_module": "@jupyter-widgets/controls",
      "model_module_version": "1.5.0",
      "model_name": "DescriptionStyleModel",
      "state": {
       "_model_module": "@jupyter-widgets/controls",
       "_model_module_version": "1.5.0",
       "_model_name": "DescriptionStyleModel",
       "_view_count": null,
       "_view_module": "@jupyter-widgets/base",
       "_view_module_version": "1.2.0",
       "_view_name": "StyleView",
       "description_width": ""
      }
     },
     "405303d1952f4db1b5308dd0ca204eb4": {
      "model_module": "@jupyter-widgets/base",
      "model_module_version": "1.2.0",
      "model_name": "LayoutModel",
      "state": {
       "_model_module": "@jupyter-widgets/base",
       "_model_module_version": "1.2.0",
       "_model_name": "LayoutModel",
       "_view_count": null,
       "_view_module": "@jupyter-widgets/base",
       "_view_module_version": "1.2.0",
       "_view_name": "LayoutView",
       "align_content": null,
       "align_items": null,
       "align_self": null,
       "border": null,
       "bottom": null,
       "display": null,
       "flex": null,
       "flex_flow": null,
       "grid_area": null,
       "grid_auto_columns": null,
       "grid_auto_flow": null,
       "grid_auto_rows": null,
       "grid_column": null,
       "grid_gap": null,
       "grid_row": null,
       "grid_template_areas": null,
       "grid_template_columns": null,
       "grid_template_rows": null,
       "height": null,
       "justify_content": null,
       "justify_items": null,
       "left": null,
       "margin": null,
       "max_height": null,
       "max_width": null,
       "min_height": null,
       "min_width": null,
       "object_fit": null,
       "object_position": null,
       "order": null,
       "overflow": null,
       "overflow_x": null,
       "overflow_y": null,
       "padding": null,
       "right": null,
       "top": null,
       "visibility": null,
       "width": null
      }
     },
     "40f17477a2a142d7979640b399fb0064": {
      "model_module": "@jupyter-widgets/base",
      "model_module_version": "1.2.0",
      "model_name": "LayoutModel",
      "state": {
       "_model_module": "@jupyter-widgets/base",
       "_model_module_version": "1.2.0",
       "_model_name": "LayoutModel",
       "_view_count": null,
       "_view_module": "@jupyter-widgets/base",
       "_view_module_version": "1.2.0",
       "_view_name": "LayoutView",
       "align_content": null,
       "align_items": null,
       "align_self": null,
       "border": null,
       "bottom": null,
       "display": null,
       "flex": null,
       "flex_flow": null,
       "grid_area": null,
       "grid_auto_columns": null,
       "grid_auto_flow": null,
       "grid_auto_rows": null,
       "grid_column": null,
       "grid_gap": null,
       "grid_row": null,
       "grid_template_areas": null,
       "grid_template_columns": null,
       "grid_template_rows": null,
       "height": null,
       "justify_content": null,
       "justify_items": null,
       "left": null,
       "margin": null,
       "max_height": null,
       "max_width": null,
       "min_height": null,
       "min_width": null,
       "object_fit": null,
       "object_position": null,
       "order": null,
       "overflow": null,
       "overflow_x": null,
       "overflow_y": null,
       "padding": null,
       "right": null,
       "top": null,
       "visibility": null,
       "width": null
      }
     },
     "43cbde1fc6a7436882826cb768126b2d": {
      "model_module": "@jupyter-widgets/controls",
      "model_module_version": "1.5.0",
      "model_name": "HTMLModel",
      "state": {
       "_dom_classes": [],
       "_model_module": "@jupyter-widgets/controls",
       "_model_module_version": "1.5.0",
       "_model_name": "HTMLModel",
       "_view_count": null,
       "_view_module": "@jupyter-widgets/controls",
       "_view_module_version": "1.5.0",
       "_view_name": "HTMLView",
       "description": "",
       "description_tooltip": null,
       "layout": "IPY_MODEL_be4fd37b5faf4cbaac92694374a42601",
       "placeholder": "​",
       "style": "IPY_MODEL_f78bc7bdfd784c5aa6614801977ea4ff",
       "value": "Downloading (…)lve/main/config.json: 100%"
      }
     },
     "461e859970ef4039a529fb53ba2fba79": {
      "model_module": "@jupyter-widgets/controls",
      "model_module_version": "1.5.0",
      "model_name": "DescriptionStyleModel",
      "state": {
       "_model_module": "@jupyter-widgets/controls",
       "_model_module_version": "1.5.0",
       "_model_name": "DescriptionStyleModel",
       "_view_count": null,
       "_view_module": "@jupyter-widgets/base",
       "_view_module_version": "1.2.0",
       "_view_name": "StyleView",
       "description_width": ""
      }
     },
     "47ee0dfcc47a414f87582dbcb670f99e": {
      "model_module": "@jupyter-widgets/base",
      "model_module_version": "1.2.0",
      "model_name": "LayoutModel",
      "state": {
       "_model_module": "@jupyter-widgets/base",
       "_model_module_version": "1.2.0",
       "_model_name": "LayoutModel",
       "_view_count": null,
       "_view_module": "@jupyter-widgets/base",
       "_view_module_version": "1.2.0",
       "_view_name": "LayoutView",
       "align_content": null,
       "align_items": null,
       "align_self": null,
       "border": null,
       "bottom": null,
       "display": null,
       "flex": null,
       "flex_flow": null,
       "grid_area": null,
       "grid_auto_columns": null,
       "grid_auto_flow": null,
       "grid_auto_rows": null,
       "grid_column": null,
       "grid_gap": null,
       "grid_row": null,
       "grid_template_areas": null,
       "grid_template_columns": null,
       "grid_template_rows": null,
       "height": null,
       "justify_content": null,
       "justify_items": null,
       "left": null,
       "margin": null,
       "max_height": null,
       "max_width": null,
       "min_height": null,
       "min_width": null,
       "object_fit": null,
       "object_position": null,
       "order": null,
       "overflow": null,
       "overflow_x": null,
       "overflow_y": null,
       "padding": null,
       "right": null,
       "top": null,
       "visibility": null,
       "width": null
      }
     },
     "48964bcb2de64b309ab5510b83f7368c": {
      "model_module": "@jupyter-widgets/controls",
      "model_module_version": "1.5.0",
      "model_name": "HTMLModel",
      "state": {
       "_dom_classes": [],
       "_model_module": "@jupyter-widgets/controls",
       "_model_module_version": "1.5.0",
       "_model_name": "HTMLModel",
       "_view_count": null,
       "_view_module": "@jupyter-widgets/controls",
       "_view_module_version": "1.5.0",
       "_view_name": "HTMLView",
       "description": "",
       "description_tooltip": null,
       "layout": "IPY_MODEL_1cda1d755d73498d94ec3259b78c11c5",
       "placeholder": "​",
       "style": "IPY_MODEL_3d7dfc47b36a4136bd16182f4c2f6cd2",
       "value": "Downloading (…)/main/tokenizer.json: 100%"
      }
     },
     "48f7f031d3e84d229bba134430b1591b": {
      "model_module": "@jupyter-widgets/controls",
      "model_module_version": "1.5.0",
      "model_name": "FloatProgressModel",
      "state": {
       "_dom_classes": [],
       "_model_module": "@jupyter-widgets/controls",
       "_model_module_version": "1.5.0",
       "_model_name": "FloatProgressModel",
       "_view_count": null,
       "_view_module": "@jupyter-widgets/controls",
       "_view_module_version": "1.5.0",
       "_view_name": "ProgressView",
       "bar_style": "success",
       "description": "",
       "description_tooltip": null,
       "layout": "IPY_MODEL_4aaa2ce73c974932905bd8692070f40d",
       "max": 898823.0,
       "min": 0.0,
       "orientation": "horizontal",
       "style": "IPY_MODEL_14e81008d57644629b4a997c7cecb06c",
       "value": 898823.0
      }
     },
     "4aaa2ce73c974932905bd8692070f40d": {
      "model_module": "@jupyter-widgets/base",
      "model_module_version": "1.2.0",
      "model_name": "LayoutModel",
      "state": {
       "_model_module": "@jupyter-widgets/base",
       "_model_module_version": "1.2.0",
       "_model_name": "LayoutModel",
       "_view_count": null,
       "_view_module": "@jupyter-widgets/base",
       "_view_module_version": "1.2.0",
       "_view_name": "LayoutView",
       "align_content": null,
       "align_items": null,
       "align_self": null,
       "border": null,
       "bottom": null,
       "display": null,
       "flex": null,
       "flex_flow": null,
       "grid_area": null,
       "grid_auto_columns": null,
       "grid_auto_flow": null,
       "grid_auto_rows": null,
       "grid_column": null,
       "grid_gap": null,
       "grid_row": null,
       "grid_template_areas": null,
       "grid_template_columns": null,
       "grid_template_rows": null,
       "height": null,
       "justify_content": null,
       "justify_items": null,
       "left": null,
       "margin": null,
       "max_height": null,
       "max_width": null,
       "min_height": null,
       "min_width": null,
       "object_fit": null,
       "object_position": null,
       "order": null,
       "overflow": null,
       "overflow_x": null,
       "overflow_y": null,
       "padding": null,
       "right": null,
       "top": null,
       "visibility": null,
       "width": null
      }
     },
     "4b5d56f2ab294972a60d12e33d4a3d84": {
      "model_module": "@jupyter-widgets/base",
      "model_module_version": "1.2.0",
      "model_name": "LayoutModel",
      "state": {
       "_model_module": "@jupyter-widgets/base",
       "_model_module_version": "1.2.0",
       "_model_name": "LayoutModel",
       "_view_count": null,
       "_view_module": "@jupyter-widgets/base",
       "_view_module_version": "1.2.0",
       "_view_name": "LayoutView",
       "align_content": null,
       "align_items": null,
       "align_self": null,
       "border": null,
       "bottom": null,
       "display": null,
       "flex": null,
       "flex_flow": null,
       "grid_area": null,
       "grid_auto_columns": null,
       "grid_auto_flow": null,
       "grid_auto_rows": null,
       "grid_column": null,
       "grid_gap": null,
       "grid_row": null,
       "grid_template_areas": null,
       "grid_template_columns": null,
       "grid_template_rows": null,
       "height": null,
       "justify_content": null,
       "justify_items": null,
       "left": null,
       "margin": null,
       "max_height": null,
       "max_width": null,
       "min_height": null,
       "min_width": null,
       "object_fit": null,
       "object_position": null,
       "order": null,
       "overflow": null,
       "overflow_x": null,
       "overflow_y": null,
       "padding": null,
       "right": null,
       "top": null,
       "visibility": null,
       "width": null
      }
     },
     "4eb345cd37c9488182c1ca54a03a5bcc": {
      "model_module": "@jupyter-widgets/controls",
      "model_module_version": "1.5.0",
      "model_name": "FloatProgressModel",
      "state": {
       "_dom_classes": [],
       "_model_module": "@jupyter-widgets/controls",
       "_model_module_version": "1.5.0",
       "_model_name": "FloatProgressModel",
       "_view_count": null,
       "_view_module": "@jupyter-widgets/controls",
       "_view_module_version": "1.5.0",
       "_view_name": "ProgressView",
       "bar_style": "success",
       "description": "",
       "description_tooltip": null,
       "layout": "IPY_MODEL_df4ac7cf16aa4695bb30bf2c5fd4a0a2",
       "max": 481.0,
       "min": 0.0,
       "orientation": "horizontal",
       "style": "IPY_MODEL_cc9b964cae664747ad617be09caaed7b",
       "value": 481.0
      }
     },
     "54923a8145034967bc7944643eda67b5": {
      "model_module": "@jupyter-widgets/base",
      "model_module_version": "1.2.0",
      "model_name": "LayoutModel",
      "state": {
       "_model_module": "@jupyter-widgets/base",
       "_model_module_version": "1.2.0",
       "_model_name": "LayoutModel",
       "_view_count": null,
       "_view_module": "@jupyter-widgets/base",
       "_view_module_version": "1.2.0",
       "_view_name": "LayoutView",
       "align_content": null,
       "align_items": null,
       "align_self": null,
       "border": null,
       "bottom": null,
       "display": null,
       "flex": null,
       "flex_flow": null,
       "grid_area": null,
       "grid_auto_columns": null,
       "grid_auto_flow": null,
       "grid_auto_rows": null,
       "grid_column": null,
       "grid_gap": null,
       "grid_row": null,
       "grid_template_areas": null,
       "grid_template_columns": null,
       "grid_template_rows": null,
       "height": null,
       "justify_content": null,
       "justify_items": null,
       "left": null,
       "margin": null,
       "max_height": null,
       "max_width": null,
       "min_height": null,
       "min_width": null,
       "object_fit": null,
       "object_position": null,
       "order": null,
       "overflow": null,
       "overflow_x": null,
       "overflow_y": null,
       "padding": null,
       "right": null,
       "top": null,
       "visibility": null,
       "width": null
      }
     },
     "56b5807cbe734652885c06422ca57080": {
      "model_module": "@jupyter-widgets/controls",
      "model_module_version": "1.5.0",
      "model_name": "HBoxModel",
      "state": {
       "_dom_classes": [],
       "_model_module": "@jupyter-widgets/controls",
       "_model_module_version": "1.5.0",
       "_model_name": "HBoxModel",
       "_view_count": null,
       "_view_module": "@jupyter-widgets/controls",
       "_view_module_version": "1.5.0",
       "_view_name": "HBoxView",
       "box_style": "",
       "children": [
        "IPY_MODEL_6c412d36c0154cf695d48afdcf1e6527",
        "IPY_MODEL_94fe9dc96f1441ba9d483143931bc42c",
        "IPY_MODEL_b4abdf6dba8f4e43a23f47d69ac241bf"
       ],
       "layout": "IPY_MODEL_3c137254ddb94e178a72f5abf2b521ba"
      }
     },
     "5db89ecb180b48c8849156b0daed7092": {
      "model_module": "@jupyter-widgets/base",
      "model_module_version": "1.2.0",
      "model_name": "LayoutModel",
      "state": {
       "_model_module": "@jupyter-widgets/base",
       "_model_module_version": "1.2.0",
       "_model_name": "LayoutModel",
       "_view_count": null,
       "_view_module": "@jupyter-widgets/base",
       "_view_module_version": "1.2.0",
       "_view_name": "LayoutView",
       "align_content": null,
       "align_items": null,
       "align_self": null,
       "border": null,
       "bottom": null,
       "display": null,
       "flex": null,
       "flex_flow": null,
       "grid_area": null,
       "grid_auto_columns": null,
       "grid_auto_flow": null,
       "grid_auto_rows": null,
       "grid_column": null,
       "grid_gap": null,
       "grid_row": null,
       "grid_template_areas": null,
       "grid_template_columns": null,
       "grid_template_rows": null,
       "height": null,
       "justify_content": null,
       "justify_items": null,
       "left": null,
       "margin": null,
       "max_height": null,
       "max_width": null,
       "min_height": null,
       "min_width": null,
       "object_fit": null,
       "object_position": null,
       "order": null,
       "overflow": null,
       "overflow_x": null,
       "overflow_y": null,
       "padding": null,
       "right": null,
       "top": null,
       "visibility": null,
       "width": null
      }
     },
     "6be55aceffce41d58639624948564657": {
      "model_module": "@jupyter-widgets/base",
      "model_module_version": "1.2.0",
      "model_name": "LayoutModel",
      "state": {
       "_model_module": "@jupyter-widgets/base",
       "_model_module_version": "1.2.0",
       "_model_name": "LayoutModel",
       "_view_count": null,
       "_view_module": "@jupyter-widgets/base",
       "_view_module_version": "1.2.0",
       "_view_name": "LayoutView",
       "align_content": null,
       "align_items": null,
       "align_self": null,
       "border": null,
       "bottom": null,
       "display": null,
       "flex": null,
       "flex_flow": null,
       "grid_area": null,
       "grid_auto_columns": null,
       "grid_auto_flow": null,
       "grid_auto_rows": null,
       "grid_column": null,
       "grid_gap": null,
       "grid_row": null,
       "grid_template_areas": null,
       "grid_template_columns": null,
       "grid_template_rows": null,
       "height": null,
       "justify_content": null,
       "justify_items": null,
       "left": null,
       "margin": null,
       "max_height": null,
       "max_width": null,
       "min_height": null,
       "min_width": null,
       "object_fit": null,
       "object_position": null,
       "order": null,
       "overflow": null,
       "overflow_x": null,
       "overflow_y": null,
       "padding": null,
       "right": null,
       "top": null,
       "visibility": null,
       "width": null
      }
     },
     "6c412d36c0154cf695d48afdcf1e6527": {
      "model_module": "@jupyter-widgets/controls",
      "model_module_version": "1.5.0",
      "model_name": "HTMLModel",
      "state": {
       "_dom_classes": [],
       "_model_module": "@jupyter-widgets/controls",
       "_model_module_version": "1.5.0",
       "_model_name": "HTMLModel",
       "_view_count": null,
       "_view_module": "@jupyter-widgets/controls",
       "_view_module_version": "1.5.0",
       "_view_name": "HTMLView",
       "description": "",
       "description_tooltip": null,
       "layout": "IPY_MODEL_0c70d0efa1244b99941b128dbf76a9a8",
       "placeholder": "​",
       "style": "IPY_MODEL_2022070369dd4664bf3dbd0c85c0d6bd",
       "value": "Downloading (…)olve/main/merges.txt: 100%"
      }
     },
     "7395df1da5cc46bb9c9e3995d1e51139": {
      "model_module": "@jupyter-widgets/controls",
      "model_module_version": "1.5.0",
      "model_name": "ProgressStyleModel",
      "state": {
       "_model_module": "@jupyter-widgets/controls",
       "_model_module_version": "1.5.0",
       "_model_name": "ProgressStyleModel",
       "_view_count": null,
       "_view_module": "@jupyter-widgets/base",
       "_view_module_version": "1.2.0",
       "_view_name": "StyleView",
       "bar_color": null,
       "description_width": ""
      }
     },
     "77155e6b00be44c5b007b3dbcba27424": {
      "model_module": "@jupyter-widgets/controls",
      "model_module_version": "1.5.0",
      "model_name": "HBoxModel",
      "state": {
       "_dom_classes": [],
       "_model_module": "@jupyter-widgets/controls",
       "_model_module_version": "1.5.0",
       "_model_name": "HBoxModel",
       "_view_count": null,
       "_view_module": "@jupyter-widgets/controls",
       "_view_module_version": "1.5.0",
       "_view_name": "HBoxView",
       "box_style": "",
       "children": [
        "IPY_MODEL_43cbde1fc6a7436882826cb768126b2d",
        "IPY_MODEL_4eb345cd37c9488182c1ca54a03a5bcc",
        "IPY_MODEL_ddd7e3b583d243448d544e57c7a61858"
       ],
       "layout": "IPY_MODEL_47ee0dfcc47a414f87582dbcb670f99e"
      }
     },
     "77a9aaeb93d4416b96bcfd565585a30f": {
      "model_module": "@jupyter-widgets/base",
      "model_module_version": "1.2.0",
      "model_name": "LayoutModel",
      "state": {
       "_model_module": "@jupyter-widgets/base",
       "_model_module_version": "1.2.0",
       "_model_name": "LayoutModel",
       "_view_count": null,
       "_view_module": "@jupyter-widgets/base",
       "_view_module_version": "1.2.0",
       "_view_name": "LayoutView",
       "align_content": null,
       "align_items": null,
       "align_self": null,
       "border": null,
       "bottom": null,
       "display": null,
       "flex": null,
       "flex_flow": null,
       "grid_area": null,
       "grid_auto_columns": null,
       "grid_auto_flow": null,
       "grid_auto_rows": null,
       "grid_column": null,
       "grid_gap": null,
       "grid_row": null,
       "grid_template_areas": null,
       "grid_template_columns": null,
       "grid_template_rows": null,
       "height": null,
       "justify_content": null,
       "justify_items": null,
       "left": null,
       "margin": null,
       "max_height": null,
       "max_width": null,
       "min_height": null,
       "min_width": null,
       "object_fit": null,
       "object_position": null,
       "order": null,
       "overflow": null,
       "overflow_x": null,
       "overflow_y": null,
       "padding": null,
       "right": null,
       "top": null,
       "visibility": null,
       "width": null
      }
     },
     "88c7ec159e88422091b4cae5ab571d79": {
      "model_module": "@jupyter-widgets/base",
      "model_module_version": "1.2.0",
      "model_name": "LayoutModel",
      "state": {
       "_model_module": "@jupyter-widgets/base",
       "_model_module_version": "1.2.0",
       "_model_name": "LayoutModel",
       "_view_count": null,
       "_view_module": "@jupyter-widgets/base",
       "_view_module_version": "1.2.0",
       "_view_name": "LayoutView",
       "align_content": null,
       "align_items": null,
       "align_self": null,
       "border": null,
       "bottom": null,
       "display": null,
       "flex": null,
       "flex_flow": null,
       "grid_area": null,
       "grid_auto_columns": null,
       "grid_auto_flow": null,
       "grid_auto_rows": null,
       "grid_column": null,
       "grid_gap": null,
       "grid_row": null,
       "grid_template_areas": null,
       "grid_template_columns": null,
       "grid_template_rows": null,
       "height": null,
       "justify_content": null,
       "justify_items": null,
       "left": null,
       "margin": null,
       "max_height": null,
       "max_width": null,
       "min_height": null,
       "min_width": null,
       "object_fit": null,
       "object_position": null,
       "order": null,
       "overflow": null,
       "overflow_x": null,
       "overflow_y": null,
       "padding": null,
       "right": null,
       "top": null,
       "visibility": null,
       "width": null
      }
     },
     "9024ccdeb2be4e33a91b0a54911551e6": {
      "model_module": "@jupyter-widgets/controls",
      "model_module_version": "1.5.0",
      "model_name": "HTMLModel",
      "state": {
       "_dom_classes": [],
       "_model_module": "@jupyter-widgets/controls",
       "_model_module_version": "1.5.0",
       "_model_name": "HTMLModel",
       "_view_count": null,
       "_view_module": "@jupyter-widgets/controls",
       "_view_module_version": "1.5.0",
       "_view_name": "HTMLView",
       "description": "",
       "description_tooltip": null,
       "layout": "IPY_MODEL_00600ff19ddb4895ae638a6c191bf332",
       "placeholder": "​",
       "style": "IPY_MODEL_e7debb7d63684c58bf68b15007068f62",
       "value": " 499M/499M [00:01&lt;00:00, 417MB/s]"
      }
     },
     "94fe9dc96f1441ba9d483143931bc42c": {
      "model_module": "@jupyter-widgets/controls",
      "model_module_version": "1.5.0",
      "model_name": "FloatProgressModel",
      "state": {
       "_dom_classes": [],
       "_model_module": "@jupyter-widgets/controls",
       "_model_module_version": "1.5.0",
       "_model_name": "FloatProgressModel",
       "_view_count": null,
       "_view_module": "@jupyter-widgets/controls",
       "_view_module_version": "1.5.0",
       "_view_name": "ProgressView",
       "bar_style": "success",
       "description": "",
       "description_tooltip": null,
       "layout": "IPY_MODEL_08094f63d9184da4830b194849cbb80b",
       "max": 456318.0,
       "min": 0.0,
       "orientation": "horizontal",
       "style": "IPY_MODEL_7395df1da5cc46bb9c9e3995d1e51139",
       "value": 456318.0
      }
     },
     "9e00cecc35324fcc9a2ed7838b1c0445": {
      "model_module": "@jupyter-widgets/base",
      "model_module_version": "1.2.0",
      "model_name": "LayoutModel",
      "state": {
       "_model_module": "@jupyter-widgets/base",
       "_model_module_version": "1.2.0",
       "_model_name": "LayoutModel",
       "_view_count": null,
       "_view_module": "@jupyter-widgets/base",
       "_view_module_version": "1.2.0",
       "_view_name": "LayoutView",
       "align_content": null,
       "align_items": null,
       "align_self": null,
       "border": null,
       "bottom": null,
       "display": null,
       "flex": null,
       "flex_flow": null,
       "grid_area": null,
       "grid_auto_columns": null,
       "grid_auto_flow": null,
       "grid_auto_rows": null,
       "grid_column": null,
       "grid_gap": null,
       "grid_row": null,
       "grid_template_areas": null,
       "grid_template_columns": null,
       "grid_template_rows": null,
       "height": null,
       "justify_content": null,
       "justify_items": null,
       "left": null,
       "margin": null,
       "max_height": null,
       "max_width": null,
       "min_height": null,
       "min_width": null,
       "object_fit": null,
       "object_position": null,
       "order": null,
       "overflow": null,
       "overflow_x": null,
       "overflow_y": null,
       "padding": null,
       "right": null,
       "top": null,
       "visibility": null,
       "width": null
      }
     },
     "a68c1d89207c4bb38e2d57c6ceb38313": {
      "model_module": "@jupyter-widgets/controls",
      "model_module_version": "1.5.0",
      "model_name": "HTMLModel",
      "state": {
       "_dom_classes": [],
       "_model_module": "@jupyter-widgets/controls",
       "_model_module_version": "1.5.0",
       "_model_name": "HTMLModel",
       "_view_count": null,
       "_view_module": "@jupyter-widgets/controls",
       "_view_module_version": "1.5.0",
       "_view_name": "HTMLView",
       "description": "",
       "description_tooltip": null,
       "layout": "IPY_MODEL_234962a9dae1438f9a787235357451b9",
       "placeholder": "​",
       "style": "IPY_MODEL_461e859970ef4039a529fb53ba2fba79",
       "value": " 1.36M/1.36M [00:00&lt;00:00, 5.46MB/s]"
      }
     },
     "abab001f966741cd9db75000b9af94c3": {
      "model_module": "@jupyter-widgets/controls",
      "model_module_version": "1.5.0",
      "model_name": "DescriptionStyleModel",
      "state": {
       "_model_module": "@jupyter-widgets/controls",
       "_model_module_version": "1.5.0",
       "_model_name": "DescriptionStyleModel",
       "_view_count": null,
       "_view_module": "@jupyter-widgets/base",
       "_view_module_version": "1.2.0",
       "_view_name": "StyleView",
       "description_width": ""
      }
     },
     "b4abdf6dba8f4e43a23f47d69ac241bf": {
      "model_module": "@jupyter-widgets/controls",
      "model_module_version": "1.5.0",
      "model_name": "HTMLModel",
      "state": {
       "_dom_classes": [],
       "_model_module": "@jupyter-widgets/controls",
       "_model_module_version": "1.5.0",
       "_model_name": "HTMLModel",
       "_view_count": null,
       "_view_module": "@jupyter-widgets/controls",
       "_view_module_version": "1.5.0",
       "_view_name": "HTMLView",
       "description": "",
       "description_tooltip": null,
       "layout": "IPY_MODEL_32013707c1e84c0088f5923a789ae5e1",
       "placeholder": "​",
       "style": "IPY_MODEL_abab001f966741cd9db75000b9af94c3",
       "value": " 456k/456k [00:00&lt;00:00, 1.85MB/s]"
      }
     },
     "be4fd37b5faf4cbaac92694374a42601": {
      "model_module": "@jupyter-widgets/base",
      "model_module_version": "1.2.0",
      "model_name": "LayoutModel",
      "state": {
       "_model_module": "@jupyter-widgets/base",
       "_model_module_version": "1.2.0",
       "_model_name": "LayoutModel",
       "_view_count": null,
       "_view_module": "@jupyter-widgets/base",
       "_view_module_version": "1.2.0",
       "_view_name": "LayoutView",
       "align_content": null,
       "align_items": null,
       "align_self": null,
       "border": null,
       "bottom": null,
       "display": null,
       "flex": null,
       "flex_flow": null,
       "grid_area": null,
       "grid_auto_columns": null,
       "grid_auto_flow": null,
       "grid_auto_rows": null,
       "grid_column": null,
       "grid_gap": null,
       "grid_row": null,
       "grid_template_areas": null,
       "grid_template_columns": null,
       "grid_template_rows": null,
       "height": null,
       "justify_content": null,
       "justify_items": null,
       "left": null,
       "margin": null,
       "max_height": null,
       "max_width": null,
       "min_height": null,
       "min_width": null,
       "object_fit": null,
       "object_position": null,
       "order": null,
       "overflow": null,
       "overflow_x": null,
       "overflow_y": null,
       "padding": null,
       "right": null,
       "top": null,
       "visibility": null,
       "width": null
      }
     },
     "c165dbb75adc460b86393f67ee4f50eb": {
      "model_module": "@jupyter-widgets/controls",
      "model_module_version": "1.5.0",
      "model_name": "FloatProgressModel",
      "state": {
       "_dom_classes": [],
       "_model_module": "@jupyter-widgets/controls",
       "_model_module_version": "1.5.0",
       "_model_name": "FloatProgressModel",
       "_view_count": null,
       "_view_module": "@jupyter-widgets/controls",
       "_view_module_version": "1.5.0",
       "_view_name": "ProgressView",
       "bar_style": "success",
       "description": "",
       "description_tooltip": null,
       "layout": "IPY_MODEL_40f17477a2a142d7979640b399fb0064",
       "max": 1355863.0,
       "min": 0.0,
       "orientation": "horizontal",
       "style": "IPY_MODEL_22912e6f28d04db0b0d98e32bffee6fe",
       "value": 1355863.0
      }
     },
     "c175adf08f064fe0bf1fc82265c88865": {
      "model_module": "@jupyter-widgets/controls",
      "model_module_version": "1.5.0",
      "model_name": "HTMLModel",
      "state": {
       "_dom_classes": [],
       "_model_module": "@jupyter-widgets/controls",
       "_model_module_version": "1.5.0",
       "_model_name": "HTMLModel",
       "_view_count": null,
       "_view_module": "@jupyter-widgets/controls",
       "_view_module_version": "1.5.0",
       "_view_name": "HTMLView",
       "description": "",
       "description_tooltip": null,
       "layout": "IPY_MODEL_4b5d56f2ab294972a60d12e33d4a3d84",
       "placeholder": "​",
       "style": "IPY_MODEL_2928c7a569d742e6885a6e4ccde40f5a",
       "value": " 899k/899k [00:00&lt;00:00, 2.75MB/s]"
      }
     },
     "cc9b964cae664747ad617be09caaed7b": {
      "model_module": "@jupyter-widgets/controls",
      "model_module_version": "1.5.0",
      "model_name": "ProgressStyleModel",
      "state": {
       "_model_module": "@jupyter-widgets/controls",
       "_model_module_version": "1.5.0",
       "_model_name": "ProgressStyleModel",
       "_view_count": null,
       "_view_module": "@jupyter-widgets/base",
       "_view_module_version": "1.2.0",
       "_view_name": "StyleView",
       "bar_color": null,
       "description_width": ""
      }
     },
     "d60a97dc28a14aa6ae4e89eb6d93aea4": {
      "model_module": "@jupyter-widgets/controls",
      "model_module_version": "1.5.0",
      "model_name": "DescriptionStyleModel",
      "state": {
       "_model_module": "@jupyter-widgets/controls",
       "_model_module_version": "1.5.0",
       "_model_name": "DescriptionStyleModel",
       "_view_count": null,
       "_view_module": "@jupyter-widgets/base",
       "_view_module_version": "1.2.0",
       "_view_name": "StyleView",
       "description_width": ""
      }
     },
     "ddd7e3b583d243448d544e57c7a61858": {
      "model_module": "@jupyter-widgets/controls",
      "model_module_version": "1.5.0",
      "model_name": "HTMLModel",
      "state": {
       "_dom_classes": [],
       "_model_module": "@jupyter-widgets/controls",
       "_model_module_version": "1.5.0",
       "_model_name": "HTMLModel",
       "_view_count": null,
       "_view_module": "@jupyter-widgets/controls",
       "_view_module_version": "1.5.0",
       "_view_name": "HTMLView",
       "description": "",
       "description_tooltip": null,
       "layout": "IPY_MODEL_88c7ec159e88422091b4cae5ab571d79",
       "placeholder": "​",
       "style": "IPY_MODEL_27d731c237a945f88e01cdc718be4604",
       "value": " 481/481 [00:00&lt;00:00, 40.8kB/s]"
      }
     },
     "df4ac7cf16aa4695bb30bf2c5fd4a0a2": {
      "model_module": "@jupyter-widgets/base",
      "model_module_version": "1.2.0",
      "model_name": "LayoutModel",
      "state": {
       "_model_module": "@jupyter-widgets/base",
       "_model_module_version": "1.2.0",
       "_model_name": "LayoutModel",
       "_view_count": null,
       "_view_module": "@jupyter-widgets/base",
       "_view_module_version": "1.2.0",
       "_view_name": "LayoutView",
       "align_content": null,
       "align_items": null,
       "align_self": null,
       "border": null,
       "bottom": null,
       "display": null,
       "flex": null,
       "flex_flow": null,
       "grid_area": null,
       "grid_auto_columns": null,
       "grid_auto_flow": null,
       "grid_auto_rows": null,
       "grid_column": null,
       "grid_gap": null,
       "grid_row": null,
       "grid_template_areas": null,
       "grid_template_columns": null,
       "grid_template_rows": null,
       "height": null,
       "justify_content": null,
       "justify_items": null,
       "left": null,
       "margin": null,
       "max_height": null,
       "max_width": null,
       "min_height": null,
       "min_width": null,
       "object_fit": null,
       "object_position": null,
       "order": null,
       "overflow": null,
       "overflow_x": null,
       "overflow_y": null,
       "padding": null,
       "right": null,
       "top": null,
       "visibility": null,
       "width": null
      }
     },
     "e4213eea289e45a8b4bd0dcb88cf27bb": {
      "model_module": "@jupyter-widgets/controls",
      "model_module_version": "1.5.0",
      "model_name": "HTMLModel",
      "state": {
       "_dom_classes": [],
       "_model_module": "@jupyter-widgets/controls",
       "_model_module_version": "1.5.0",
       "_model_name": "HTMLModel",
       "_view_count": null,
       "_view_module": "@jupyter-widgets/controls",
       "_view_module_version": "1.5.0",
       "_view_name": "HTMLView",
       "description": "",
       "description_tooltip": null,
       "layout": "IPY_MODEL_9e00cecc35324fcc9a2ed7838b1c0445",
       "placeholder": "​",
       "style": "IPY_MODEL_d60a97dc28a14aa6ae4e89eb6d93aea4",
       "value": "Downloading (…)olve/main/vocab.json: 100%"
      }
     },
     "e7debb7d63684c58bf68b15007068f62": {
      "model_module": "@jupyter-widgets/controls",
      "model_module_version": "1.5.0",
      "model_name": "DescriptionStyleModel",
      "state": {
       "_model_module": "@jupyter-widgets/controls",
       "_model_module_version": "1.5.0",
       "_model_name": "DescriptionStyleModel",
       "_view_count": null,
       "_view_module": "@jupyter-widgets/base",
       "_view_module_version": "1.2.0",
       "_view_name": "StyleView",
       "description_width": ""
      }
     },
     "f78bc7bdfd784c5aa6614801977ea4ff": {
      "model_module": "@jupyter-widgets/controls",
      "model_module_version": "1.5.0",
      "model_name": "DescriptionStyleModel",
      "state": {
       "_model_module": "@jupyter-widgets/controls",
       "_model_module_version": "1.5.0",
       "_model_name": "DescriptionStyleModel",
       "_view_count": null,
       "_view_module": "@jupyter-widgets/base",
       "_view_module_version": "1.2.0",
       "_view_name": "StyleView",
       "description_width": ""
      }
     },
     "f9df21660b1d4bb4a9f59461fa73c330": {
      "model_module": "@jupyter-widgets/controls",
      "model_module_version": "1.5.0",
      "model_name": "HBoxModel",
      "state": {
       "_dom_classes": [],
       "_model_module": "@jupyter-widgets/controls",
       "_model_module_version": "1.5.0",
       "_model_name": "HBoxModel",
       "_view_count": null,
       "_view_module": "@jupyter-widgets/controls",
       "_view_module_version": "1.5.0",
       "_view_name": "HBoxView",
       "box_style": "",
       "children": [
        "IPY_MODEL_1f1ef48c239c4eb0814fdbad15c668c4",
        "IPY_MODEL_137084e5967b4fa4ade879cd0f8f15c1",
        "IPY_MODEL_9024ccdeb2be4e33a91b0a54911551e6"
       ],
       "layout": "IPY_MODEL_6be55aceffce41d58639624948564657"
      }
     }
    },
    "version_major": 2,
    "version_minor": 0
   }
  }
 },
 "nbformat": 4,
 "nbformat_minor": 5
}
