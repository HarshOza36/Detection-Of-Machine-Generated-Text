{
 "cells": [
  {
   "cell_type": "code",
   "execution_count": 1,
   "metadata": {
    "execution": {
     "iopub.execute_input": "2023-10-10T07:37:41.453440Z",
     "iopub.status.busy": "2023-10-10T07:37:41.453078Z",
     "iopub.status.idle": "2023-10-10T07:37:52.325934Z",
     "shell.execute_reply": "2023-10-10T07:37:52.324768Z",
     "shell.execute_reply.started": "2023-10-10T07:37:41.453408Z"
    },
    "id": "0b7eee74",
    "outputId": "afb92e74-9252-4cbe-b271-4fc346b173b2",
    "scrolled": false
   },
   "outputs": [
    {
     "name": "stderr",
     "output_type": "stream",
     "text": [
      "[nltk_data] Downloading package punkt to /ifshome/rgaggar/nltk_data...\n",
      "[nltk_data]   Package punkt is already up-to-date!\n"
     ]
    }
   ],
   "source": [
    "import os, shutil\n",
    "os.environ[\"CUDA_VISIBLE_DEVICES\"]=\"2, 3\"\n",
    "# os.environ[\"CUDA_LAUNCH_BLOCKING\"]=\"1\"\n",
    "import torch\n",
    "import torch.nn as nn\n",
    "import torch.nn.functional as F\n",
    "from torch.autograd import Variable\n",
    "import torchvision\n",
    "import torchvision.utils as vutils\n",
    "from torch.autograd import Variable\n",
    "from tqdm.notebook import tqdm_notebook\n",
    "from torch.utils.data import Dataset, DataLoader\n",
    "from torch.utils.data.sampler import SubsetRandomSampler\n",
    "import torchvision.transforms as transforms\n",
    "import random\n",
    "from sklearn.model_selection import train_test_split\n",
    "import numpy as np\n",
    "import matplotlib.pyplot as plt\n",
    "import pandas as pd\n",
    "from pathlib import Path\n",
    "from PIL import Image\n",
    "import cv2\n",
    "import time\n",
    "from tqdm.notebook import tqdm_notebook\n",
    "import time\n",
    "import matplotlib.animation as animation\n",
    "from mpl_toolkits.axes_grid1 import ImageGrid\n",
    "import sys, time\n",
    "from nibabel.testing import data_path\n",
    "import nibabel as nib\n",
    "from PIL import Image\n",
    "import scipy.ndimage as ndi\n",
    "import itertools\n",
    "import time\n",
    "from transformers import AutoTokenizer, AutoModel\n",
    "from torch.utils.data import DataLoader\n",
    "from transformers import DataCollatorWithPadding\n",
    "import tqdm\n",
    "import nltk\n",
    "nltk.download('punkt')\n",
    "from sklearn.metrics import roc_auc_score\n",
    "from tqdm import tqdm"
   ]
  },
  {
   "cell_type": "code",
   "execution_count": 2,
   "metadata": {
    "execution": {
     "iopub.execute_input": "2023-10-10T07:37:52.329376Z",
     "iopub.status.busy": "2023-10-10T07:37:52.327916Z",
     "iopub.status.idle": "2023-10-10T07:37:52.340817Z",
     "shell.execute_reply": "2023-10-10T07:37:52.339778Z",
     "shell.execute_reply.started": "2023-10-10T07:37:52.329338Z"
    }
   },
   "outputs": [
    {
     "data": {
      "text/plain": [
       "<torch._C.Generator at 0x7f0f71cd37f0>"
      ]
     },
     "execution_count": 2,
     "metadata": {},
     "output_type": "execute_result"
    }
   ],
   "source": [
    "# FOR REPRODUCIBILTY\n",
    "torch.manual_seed(100)\n",
    "np.random.seed(0)\n",
    "torch.backends.cudnn.deterministic = True\n",
    "torch.backends.cudnn.benchmark = False \n",
    "def seed_worker(worker_id):\n",
    "    worker_seed = torch.initial_seed() % 2**32\n",
    "    np.random.seed(worker_seed)\n",
    "    random.seed(worker_seed)\n",
    "\n",
    "g = torch.Generator()\n",
    "g.manual_seed(100)"
   ]
  },
  {
   "cell_type": "code",
   "execution_count": 3,
   "metadata": {
    "execution": {
     "iopub.execute_input": "2023-10-10T07:37:52.343546Z",
     "iopub.status.busy": "2023-10-10T07:37:52.342056Z",
     "iopub.status.idle": "2023-10-10T07:37:52.417993Z",
     "shell.execute_reply": "2023-10-10T07:37:52.416912Z",
     "shell.execute_reply.started": "2023-10-10T07:37:52.343510Z"
    },
    "id": "619475c8",
    "outputId": "ec38959d-a808-4665-bd5e-da7540265bf8"
   },
   "outputs": [
    {
     "name": "stdout",
     "output_type": "stream",
     "text": [
      "True\n",
      "2\n"
     ]
    }
   ],
   "source": [
    "print(torch.cuda.is_available())\n",
    "print(torch.cuda.device_count())\n",
    "device = torch.device(\"cuda\")"
   ]
  },
  {
   "cell_type": "code",
   "execution_count": 4,
   "metadata": {
    "execution": {
     "iopub.execute_input": "2023-10-10T07:37:52.421330Z",
     "iopub.status.busy": "2023-10-10T07:37:52.420840Z",
     "iopub.status.idle": "2023-10-10T07:37:56.126545Z",
     "shell.execute_reply": "2023-10-10T07:37:56.125516Z",
     "shell.execute_reply.started": "2023-10-10T07:37:52.421295Z"
    },
    "id": "8cde69b7",
    "outputId": "ef89aea8-40bc-4a54-d89c-f6ec7974734b"
   },
   "outputs": [
    {
     "data": {
      "text/html": [
       "<div>\n",
       "<style scoped>\n",
       "    .dataframe tbody tr th:only-of-type {\n",
       "        vertical-align: middle;\n",
       "    }\n",
       "\n",
       "    .dataframe tbody tr th {\n",
       "        vertical-align: top;\n",
       "    }\n",
       "\n",
       "    .dataframe thead th {\n",
       "        text-align: right;\n",
       "    }\n",
       "</style>\n",
       "<table border=\"1\" class=\"dataframe\">\n",
       "  <thead>\n",
       "    <tr style=\"text-align: right;\">\n",
       "      <th></th>\n",
       "      <th>sentence</th>\n",
       "      <th>class</th>\n",
       "    </tr>\n",
       "  </thead>\n",
       "  <tbody>\n",
       "    <tr>\n",
       "      <th>0</th>\n",
       "      <td>What city in the United States has the highest...</td>\n",
       "      <td>0</td>\n",
       "    </tr>\n",
       "    <tr>\n",
       "      <th>1</th>\n",
       "      <td>At work, wishing I was out on the boat</td>\n",
       "      <td>0</td>\n",
       "    </tr>\n",
       "    <tr>\n",
       "      <th>2</th>\n",
       "      <td>A smile is a curve that sets everything straig...</td>\n",
       "      <td>0</td>\n",
       "    </tr>\n",
       "    <tr>\n",
       "      <th>3</th>\n",
       "      <td>Does sleep quality mediate the association bet...</td>\n",
       "      <td>0</td>\n",
       "    </tr>\n",
       "    <tr>\n",
       "      <th>4</th>\n",
       "      <td>What city was found on the west bank of the ri...</td>\n",
       "      <td>0</td>\n",
       "    </tr>\n",
       "  </tbody>\n",
       "</table>\n",
       "</div>"
      ],
      "text/plain": [
       "                                            sentence  class\n",
       "0  What city in the United States has the highest...      0\n",
       "1            At work, wishing I was out on the boat       0\n",
       "2  A smile is a curve that sets everything straig...      0\n",
       "3  Does sleep quality mediate the association bet...      0\n",
       "4  What city was found on the west bank of the ri...      0"
      ]
     },
     "execution_count": 4,
     "metadata": {},
     "output_type": "execute_result"
    }
   ],
   "source": [
    "data = pd.read_csv(\"FinalDataset.csv\")\n",
    "data.head()"
   ]
  },
  {
   "cell_type": "code",
   "execution_count": 5,
   "metadata": {
    "execution": {
     "iopub.execute_input": "2023-10-10T07:37:56.128496Z",
     "iopub.status.busy": "2023-10-10T07:37:56.128136Z",
     "iopub.status.idle": "2023-10-10T07:37:56.143733Z",
     "shell.execute_reply": "2023-10-10T07:37:56.142572Z",
     "shell.execute_reply.started": "2023-10-10T07:37:56.128461Z"
    },
    "id": "1f0320f0",
    "outputId": "77b95147-4386-4b2b-b608-4264c4b9ff41"
   },
   "outputs": [
    {
     "data": {
      "text/plain": [
       "0    400015\n",
       "1    376930\n",
       "Name: class, dtype: int64"
      ]
     },
     "execution_count": 5,
     "metadata": {},
     "output_type": "execute_result"
    }
   ],
   "source": [
    "data['class'].value_counts()"
   ]
  },
  {
   "cell_type": "code",
   "execution_count": 6,
   "metadata": {
    "execution": {
     "iopub.execute_input": "2023-10-10T07:37:56.145803Z",
     "iopub.status.busy": "2023-10-10T07:37:56.145188Z",
     "iopub.status.idle": "2023-10-10T07:37:56.466060Z",
     "shell.execute_reply": "2023-10-10T07:37:56.465005Z",
     "shell.execute_reply.started": "2023-10-10T07:37:56.145766Z"
    },
    "id": "3808bb2d"
   },
   "outputs": [],
   "source": [
    "train_data, test_data = train_test_split(data, test_size=0.1, random_state=42)\n",
    "train_data, val_data = train_test_split(train_data, test_size=0.1, random_state=42)"
   ]
  },
  {
   "cell_type": "code",
   "execution_count": 7,
   "metadata": {
    "execution": {
     "iopub.execute_input": "2023-10-10T07:37:56.467994Z",
     "iopub.status.busy": "2023-10-10T07:37:56.467630Z",
     "iopub.status.idle": "2023-10-10T07:37:56.474037Z",
     "shell.execute_reply": "2023-10-10T07:37:56.472978Z",
     "shell.execute_reply.started": "2023-10-10T07:37:56.467959Z"
    },
    "id": "416f2318",
    "outputId": "7a441f6f-b05b-43fa-eef9-7bbccf8173ef"
   },
   "outputs": [
    {
     "name": "stdout",
     "output_type": "stream",
     "text": [
      "Train: 629325\n",
      "Val: 69925\n",
      "Test: 77695\n"
     ]
    }
   ],
   "source": [
    "print('Train:', len(train_data))\n",
    "print('Val:', len(val_data))\n",
    "print('Test:', len(test_data))"
   ]
  },
  {
   "cell_type": "code",
   "execution_count": 8,
   "metadata": {
    "execution": {
     "iopub.execute_input": "2023-10-10T07:37:56.476744Z",
     "iopub.status.busy": "2023-10-10T07:37:56.475480Z",
     "iopub.status.idle": "2023-10-10T07:37:56.491361Z",
     "shell.execute_reply": "2023-10-10T07:37:56.490322Z",
     "shell.execute_reply.started": "2023-10-10T07:37:56.476656Z"
    },
    "id": "cca49120",
    "outputId": "d8f62b5c-14dd-41f0-af49-afc4ac240a0e"
   },
   "outputs": [
    {
     "data": {
      "text/plain": [
       "0    324086\n",
       "1    305239\n",
       "Name: class, dtype: int64"
      ]
     },
     "execution_count": 8,
     "metadata": {},
     "output_type": "execute_result"
    }
   ],
   "source": [
    "train_data['class'].value_counts()"
   ]
  },
  {
   "cell_type": "code",
   "execution_count": 9,
   "metadata": {
    "execution": {
     "iopub.execute_input": "2023-10-10T07:37:56.493387Z",
     "iopub.status.busy": "2023-10-10T07:37:56.492804Z",
     "iopub.status.idle": "2023-10-10T07:37:56.502092Z",
     "shell.execute_reply": "2023-10-10T07:37:56.500699Z",
     "shell.execute_reply.started": "2023-10-10T07:37:56.493353Z"
    },
    "id": "52ee9898",
    "outputId": "45e9ba20-4329-4d3f-bfee-5236ed3f09d2"
   },
   "outputs": [
    {
     "data": {
      "text/plain": [
       "0    36099\n",
       "1    33826\n",
       "Name: class, dtype: int64"
      ]
     },
     "execution_count": 9,
     "metadata": {},
     "output_type": "execute_result"
    }
   ],
   "source": [
    "val_data['class'].value_counts()"
   ]
  },
  {
   "cell_type": "code",
   "execution_count": 10,
   "metadata": {
    "execution": {
     "iopub.execute_input": "2023-10-10T07:37:56.506667Z",
     "iopub.status.busy": "2023-10-10T07:37:56.506160Z",
     "iopub.status.idle": "2023-10-10T07:37:56.516305Z",
     "shell.execute_reply": "2023-10-10T07:37:56.515262Z",
     "shell.execute_reply.started": "2023-10-10T07:37:56.506641Z"
    },
    "id": "4099fb4b",
    "outputId": "25a87ef0-a180-4c8a-d221-d2d3046cd5d9"
   },
   "outputs": [
    {
     "data": {
      "text/plain": [
       "0    39830\n",
       "1    37865\n",
       "Name: class, dtype: int64"
      ]
     },
     "execution_count": 10,
     "metadata": {},
     "output_type": "execute_result"
    }
   ],
   "source": [
    "test_data['class'].value_counts()"
   ]
  },
  {
   "cell_type": "code",
   "execution_count": 11,
   "metadata": {
    "execution": {
     "iopub.execute_input": "2023-10-10T07:37:56.518773Z",
     "iopub.status.busy": "2023-10-10T07:37:56.517875Z",
     "iopub.status.idle": "2023-10-10T07:37:56.528472Z",
     "shell.execute_reply": "2023-10-10T07:37:56.527830Z",
     "shell.execute_reply.started": "2023-10-10T07:37:56.518738Z"
    },
    "id": "2ff28ab1"
   },
   "outputs": [],
   "source": [
    "# CREATE DATASET CLASS FOR DATALOADERS\n",
    "class Dataset(Dataset):\n",
    "    def __init__(self, dataframe):\n",
    "        self.texts = dataframe['sentence'].values.tolist()\n",
    "        self.labels = dataframe['class'].values.tolist()\n",
    "        \n",
    "    def __len__(self):\n",
    "        return len(self.texts)\n",
    "    \n",
    "    def __getitem__(self, idx):\n",
    "        X = self.texts[idx]\n",
    "        y = self.labels[idx]\n",
    "        X = X.lower()\n",
    "        tokens = nltk.word_tokenize(X, language=\"english\")\n",
    "        X = \" \".join(tokens)\n",
    "        X = X.strip()\n",
    "        \n",
    "        return X, y"
   ]
  },
  {
   "cell_type": "code",
   "execution_count": 12,
   "metadata": {
    "execution": {
     "iopub.execute_input": "2023-10-10T07:41:33.226909Z",
     "iopub.status.busy": "2023-10-10T07:41:33.225810Z",
     "iopub.status.idle": "2023-10-10T07:41:33.234742Z",
     "shell.execute_reply": "2023-10-10T07:41:33.233635Z",
     "shell.execute_reply.started": "2023-10-10T07:41:33.226861Z"
    },
    "id": "e492719a"
   },
   "outputs": [],
   "source": [
    "class transformer(nn.Module):\n",
    "    def __init__(self, base_model):\n",
    "        super(transformer, self).__init__()\n",
    "\n",
    "        self.bert = base_model\n",
    "        self.fc = nn.Linear(1024, 1)\n",
    "        self.sigmoid = nn.Sigmoid()\n",
    "        \n",
    "    def forward(self, input_ids, attention_mask):\n",
    "        bert_out = self.bert(input_ids=input_ids,\n",
    "                             attention_mask=attention_mask)[0][:, 0]\n",
    "        x = self.fc(bert_out)        \n",
    "        x = self.sigmoid(x)\n",
    "\n",
    "        return x"
   ]
  },
  {
   "cell_type": "code",
   "execution_count": 13,
   "metadata": {
    "execution": {
     "iopub.execute_input": "2023-10-10T07:41:36.737310Z",
     "iopub.status.busy": "2023-10-10T07:41:36.736558Z",
     "iopub.status.idle": "2023-10-10T07:41:43.063744Z",
     "shell.execute_reply": "2023-10-10T07:41:43.062654Z",
     "shell.execute_reply.started": "2023-10-10T07:41:36.737273Z"
    },
    "id": "075d94d4",
    "outputId": "18632e96-5337-4aea-edfe-3d1c87dbd02c"
   },
   "outputs": [
    {
     "name": "stderr",
     "output_type": "stream",
     "text": [
      "Some weights of RobertaModel were not initialized from the model checkpoint at roberta-large and are newly initialized: ['roberta.pooler.dense.bias', 'roberta.pooler.dense.weight']\n",
      "You should probably TRAIN this model on a down-stream task to be able to use it for predictions and inference.\n"
     ]
    }
   ],
   "source": [
    "BERT_MODEL = \"roberta-large\"\n",
    "tokenizer = AutoTokenizer.from_pretrained(BERT_MODEL)\n",
    "base_model = AutoModel.from_pretrained(BERT_MODEL)\n",
    "\n",
    "model = transformer(base_model)\n",
    "model = torch.nn.DataParallel(model)\n",
    "model = model.to(device)"
   ]
  },
  {
   "cell_type": "code",
   "execution_count": 14,
   "metadata": {
    "execution": {
     "iopub.execute_input": "2023-10-10T07:41:43.066734Z",
     "iopub.status.busy": "2023-10-10T07:41:43.065702Z",
     "iopub.status.idle": "2023-10-10T07:41:43.072838Z",
     "shell.execute_reply": "2023-10-10T07:41:43.071707Z",
     "shell.execute_reply.started": "2023-10-10T07:41:43.066695Z"
    },
    "id": "e9800b11"
   },
   "outputs": [],
   "source": [
    "def collate_fn(batch):    \n",
    "    x, y = [], []\n",
    "    for text, label in batch:\n",
    "        x.append(text)\n",
    "        y.append(label)\n",
    "    padded_text = tokenizer(x, padding=True, truncation=True, return_tensors='pt')\n",
    "    \n",
    "    return padded_text, torch.FloatTensor(y)"
   ]
  },
  {
   "cell_type": "code",
   "execution_count": 15,
   "metadata": {
    "execution": {
     "iopub.execute_input": "2023-10-10T07:42:02.082348Z",
     "iopub.status.busy": "2023-10-10T07:42:02.081650Z",
     "iopub.status.idle": "2023-10-10T07:42:02.215394Z",
     "shell.execute_reply": "2023-10-10T07:42:02.214323Z",
     "shell.execute_reply.started": "2023-10-10T07:42:02.082315Z"
    },
    "id": "42a2a54b"
   },
   "outputs": [],
   "source": [
    "train_dataloader = DataLoader(Dataset(train_data), batch_size=20, shuffle=True, num_workers=4, collate_fn=collate_fn, pin_memory=True, worker_init_fn=seed_worker, generator=g)\n",
    "val_dataloader = DataLoader(Dataset(val_data), batch_size=20, num_workers=4, collate_fn=collate_fn, pin_memory=True, worker_init_fn=seed_worker, generator=g)"
   ]
  },
  {
   "cell_type": "code",
   "execution_count": 16,
   "metadata": {
    "execution": {
     "iopub.execute_input": "2023-10-10T07:42:02.467786Z",
     "iopub.status.busy": "2023-10-10T07:42:02.467410Z",
     "iopub.status.idle": "2023-10-10T07:42:02.822367Z",
     "shell.execute_reply": "2023-10-10T07:42:02.821061Z",
     "shell.execute_reply.started": "2023-10-10T07:42:02.467753Z"
    },
    "id": "c0303e51",
    "outputId": "04e96b1f-d549-4fa8-adbf-9d131c6d2810"
   },
   "outputs": [
    {
     "name": "stdout",
     "output_type": "stream",
     "text": [
      "(20, 227)\n"
     ]
    }
   ],
   "source": [
    "for train_input, train_label in train_dataloader:\n",
    "    print(np.array(train_input['input_ids']).shape)\n",
    "    break"
   ]
  },
  {
   "cell_type": "code",
   "execution_count": 17,
   "metadata": {
    "execution": {
     "iopub.execute_input": "2023-10-10T07:42:02.883801Z",
     "iopub.status.busy": "2023-10-10T07:42:02.883425Z",
     "iopub.status.idle": "2023-10-10T07:42:02.891526Z",
     "shell.execute_reply": "2023-10-10T07:42:02.890500Z",
     "shell.execute_reply.started": "2023-10-10T07:42:02.883767Z"
    },
    "id": "c730c14c"
   },
   "outputs": [],
   "source": [
    "criterion = nn.BCELoss()\n",
    "optimizer = torch.optim.Adam(model.parameters(), lr=1e-5)"
   ]
  },
  {
   "cell_type": "code",
   "execution_count": 18,
   "metadata": {
    "execution": {
     "iopub.execute_input": "2023-10-10T07:42:03.462355Z",
     "iopub.status.busy": "2023-10-10T07:42:03.461687Z",
     "iopub.status.idle": "2023-10-10T07:42:03.933710Z",
     "shell.execute_reply": "2023-10-10T07:42:03.932097Z",
     "shell.execute_reply.started": "2023-10-10T07:42:03.462322Z"
    },
    "id": "b2648a24",
    "outputId": "37275250-e3a4-4793-8e40-905840486925"
   },
   "outputs": [
    {
     "name": "stderr",
     "output_type": "stream",
     "text": [
      "100%|██████████| 31467/31467 [4:49:47<00:00,  1.81it/s]  \n"
     ]
    },
    {
     "name": "stdout",
     "output_type": "stream",
     "text": [
      "Epochs: 1\n",
      "Train Loss: 0.14732785197870177\n",
      "Train AUCROC: 0.9397453103053991\n",
      "Val Loss: 0.13147977263514754\n",
      "Val AUCROC: 0.9524559160825116\n"
     ]
    },
    {
     "name": "stderr",
     "output_type": "stream",
     "text": [
      "  0%|          | 0/31467 [00:00<?, ?it/s]"
     ]
    },
    {
     "name": "stdout",
     "output_type": "stream",
     "text": [
      "Saved model\n",
      "====================================================================================\n"
     ]
    },
    {
     "name": "stderr",
     "output_type": "stream",
     "text": [
      "100%|██████████| 31467/31467 [4:53:12<00:00,  1.79it/s]  \n"
     ]
    },
    {
     "name": "stdout",
     "output_type": "stream",
     "text": [
      "Epochs: 2\n",
      "Train Loss: 0.09923866626995069\n",
      "Train AUCROC: 0.9608894660308552\n",
      "Val Loss: 0.12800786583858825\n",
      "Val AUCROC: 0.9544972547838452\n"
     ]
    },
    {
     "name": "stderr",
     "output_type": "stream",
     "text": [
      "  0%|          | 0/31467 [00:00<?, ?it/s]"
     ]
    },
    {
     "name": "stdout",
     "output_type": "stream",
     "text": [
      "Saved model\n",
      "====================================================================================\n"
     ]
    },
    {
     "name": "stderr",
     "output_type": "stream",
     "text": [
      "100%|██████████| 31467/31467 [4:51:20<00:00,  1.80it/s]  \n"
     ]
    },
    {
     "name": "stdout",
     "output_type": "stream",
     "text": [
      "Epochs: 3\n",
      "Train Loss: 0.0739321762049123\n",
      "Train AUCROC: 0.9711811176650829\n",
      "Val Loss: 0.1326957078462018\n",
      "Val AUCROC: 0.9576071873797672\n",
      "Early stopping\n"
     ]
    }
   ],
   "source": [
    "count_train = 0\n",
    "count_test = 0\n",
    "best_val_loss = float('inf')\n",
    "early_stopping_threshold_count = 0\n",
    "\n",
    "for epoch in range(5):\n",
    "    total_acc_train = 0\n",
    "    total_loss_train = 0\n",
    "\n",
    "    model.train()\n",
    "\n",
    "    for train_input, train_label in tqdm(train_dataloader):\n",
    "        \n",
    "        attention_mask = train_input['attention_mask'].to(device)\n",
    "        input_ids = train_input['input_ids'].squeeze(1).to(device)\n",
    "        train_label = train_label.to(device)\n",
    "\n",
    "        output = model(input_ids, attention_mask)\n",
    "\n",
    "        loss = criterion(output, train_label.float().unsqueeze(1))\n",
    "\n",
    "        total_loss_train += loss.item()\n",
    "        \n",
    "        pred = (output >= 0.5).int()\n",
    "        label = train_label.unsqueeze(1)\n",
    "        try:\n",
    "            auc_roc = roc_auc_score(label.cpu(), pred.cpu())\n",
    "        except:\n",
    "            count_train += 1\n",
    "            auc_roc = 0\n",
    "        total_acc_train += auc_roc\n",
    "\n",
    "        loss.backward()\n",
    "        optimizer.step()\n",
    "        optimizer.zero_grad()\n",
    "\n",
    "    with torch.no_grad():\n",
    "        total_acc_val = 0\n",
    "        total_loss_val = 0\n",
    "\n",
    "        model.eval()\n",
    "\n",
    "        for val_input, val_label in val_dataloader:\n",
    "            attention_mask = val_input['attention_mask'].to(device)\n",
    "            input_ids = val_input['input_ids'].squeeze(1).to(device)\n",
    "\n",
    "            val_label = val_label.to(device)\n",
    "\n",
    "            output = model(input_ids, attention_mask)\n",
    "\n",
    "            loss = criterion(output, val_label.float().unsqueeze(1))\n",
    "\n",
    "            total_loss_val += loss.item()\n",
    "\n",
    "            pred = (output >= 0.5).int()\n",
    "            label = val_label.unsqueeze(1)\n",
    "            try:\n",
    "                auc_roc = roc_auc_score(label.cpu(), pred.cpu())\n",
    "            except:\n",
    "                count_test += 1\n",
    "                auc_roc = 0\n",
    "            total_acc_val += auc_roc\n",
    "\n",
    "        print(\"Epochs:\", epoch + 1)\n",
    "        print(\"Train Loss:\", total_loss_train/len(train_dataloader))\n",
    "        print(\"Train AUCROC:\", total_acc_train/(len(train_dataloader)-count_train))\n",
    "        print(\"Val Loss:\", total_loss_val/len(val_dataloader))\n",
    "        print(\"Val AUCROC:\", total_acc_val/(len(val_dataloader)-count_test))\n",
    "\n",
    "        if best_val_loss > total_loss_val:\n",
    "            best_val_loss = total_loss_val\n",
    "            torch.save(model, f\"roberta-large.pt\")\n",
    "            print(\"Saved model\")\n",
    "            early_stopping_threshold_count = 0\n",
    "        else:\n",
    "            early_stopping_threshold_count += 1\n",
    "\n",
    "        if early_stopping_threshold_count >= 1:\n",
    "            print(\"Early stopping\")\n",
    "            break\n",
    "            \n",
    "        count_train = 0\n",
    "        count_test = 0\n",
    "            \n",
    "        print(\"====================================================================================\")"
   ]
  },
  {
   "cell_type": "code",
   "execution_count": null,
   "metadata": {},
   "outputs": [],
   "source": []
  }
 ],
 "metadata": {
  "kernelspec": {
   "display_name": "Python 3",
   "language": "python",
   "name": "python3"
  },
  "language_info": {
   "codemirror_mode": {
    "name": "ipython",
    "version": 3
   },
   "file_extension": ".py",
   "mimetype": "text/x-python",
   "name": "python",
   "nbconvert_exporter": "python",
   "pygments_lexer": "ipython3",
   "version": "3.8.8"
  }
 },
 "nbformat": 4,
 "nbformat_minor": 4
}
